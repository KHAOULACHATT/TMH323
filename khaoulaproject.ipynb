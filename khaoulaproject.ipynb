{
 "cells": [
  {
   "cell_type": "markdown",
   "id": "5dd5a1cd",
   "metadata": {},
   "source": [
    "### Introduction \n",
    "\n",
    "Within this project, I utilized my informations about the ML to conduct an in-depth analysis of a Disease Symptoms and Patient Profile Dataset. The dataset encompasses information regarding disease symptoms, denoting outcomes as either positive or negative. Additionally, it includes demographic details of patients, such as age and gender, along with their medical history, specifically chronic diseases. \n",
    "\n",
    "The primary objective revolves around the \"outcome variable,\" which represents the test result of an unidentified outbreak. The outbreak is characterized by common symptoms such as fever, cough, fatigue, and difficulty breathing. The aim of the analysis is to gain comprehensive insights into the relevance of the test result (categorized as positive or negative) concerning both the patients medical history (captured in the Disease column) and demographic features (blood pressure or age). "
   ]
  },
  {
   "cell_type": "markdown",
   "id": "f79821be",
   "metadata": {},
   "source": [
    "# Disease Symptoms and Patient Profile Dataset"
   ]
  },
  {
   "cell_type": "markdown",
   "id": "4a7ffa07",
   "metadata": {},
   "source": [
    "  Unveil the mysteries of diseases with our Comprehensive Disease Symptom and Patient Profile Dataset. This captivating dataset offers a treasure trove of information, revealing the fascinating connections between symptoms, demographics, and health indicators. Delve into the rich tapestry of fever, cough, fatigue, and difficulty breathing, intertwined with age, gender, blood pressure, and cholesterol levels. Whether you're a medical researcher, healthcare professional, or data enthusiast, this dataset holds the key to unlocking profound insights. Explore the hidden patterns, uncover unique symptom profiles, and embark on a captivating journey through the world of medical conditions. Get ready to revolutionize healthcare understanding with our dataset."
   ]
  },
  {
   "cell_type": "markdown",
   "id": "2a3e6e79",
   "metadata": {},
   "source": [
    "### Columns :\n",
    "\n",
    "Disease: The name of the disease or medical condition.\n",
    "Fever: Indicates whether the patient has a fever (Yes/No).\n",
    "Cough: Indicates whether the patient has a cough (Yes/No).\n",
    "Fatigue: Indicates whether the patient experiences fatigue (Yes/No).\n",
    "Difficulty Breathing: Indicates whether the patient has difficulty breathing (Yes/No).\n",
    "Age: The age of the patient in years.\n",
    "Gender: The gender of the patient (Male/Female).\n",
    "Blood Pressure: The blood pressure level of the patient (Normal/High).\n",
    "Cholesterol Level: The cholesterol level of the patient (Normal/High).\n",
    "Outcome Variable: The outcome variable indicating the result of the diagnosis or assessment for the specific disease (Positive/Negative).\n"
   ]
  },
  {
   "cell_type": "markdown",
   "id": "5cdfeb81",
   "metadata": {},
   "source": [
    "### Usage:\n",
    "This dataset can be used by various stakeholders, including:\n",
    "\n",
    "Healthcare Professionals: Medical practitioners, doctors, and researchers can utilize this dataset for clinical analysis, research studies, and epidemiological investigations related to different diseases. It can aid in understanding the prevalence and patterns of symptoms among patients with specific medical conditions.\n",
    "\n",
    "Medical Researchers: Researchers focused on specific diseases or conditions mentioned in the dataset can utilize it to explore relationships between symptoms, age, gender, and other variables. This data can contribute to developing new insights, treatment strategies, and preventive measures.\n",
    "Healthcare Technology Companies: Companies developing healthcare applications, diagnostic tools, or AI algorithms can use this dataset to train and validate their models. The data can assist in the development of predictive models for disease diagnosis or monitoring based on symptoms and patient characteristics."
   ]
  },
  {
   "cell_type": "markdown",
   "id": "939bd3c0",
   "metadata": {},
   "source": [
    "## Data Preparation:\n",
    "Handle missing values: Check for missing values and decide whether to impute or remove them based on the extent of missing data.\n",
    "Encode categorical variables: Convert categorical variables like \"Gender\" to numerical format using one-hot encoding.\n",
    "Split the dataset into features (X) and the outcome variable (y)."
   ]
  },
  {
   "cell_type": "markdown",
   "id": "72e7a90e",
   "metadata": {},
   "source": [
    "## Overview "
   ]
  },
  {
   "cell_type": "code",
   "execution_count": 1,
   "id": "bf2f9aa6",
   "metadata": {},
   "outputs": [
    {
     "name": "stdout",
     "output_type": "stream",
     "text": [
      "       Disease Fever Cough Fatigue Difficulty Breathing  Age  Gender  \\\n",
      "0    Influenza   Yes    No     Yes                  Yes   19  Female   \n",
      "1  Common Cold    No   Yes     Yes                   No   25  Female   \n",
      "2       Eczema    No   Yes     Yes                   No   25  Female   \n",
      "3       Asthma   Yes   Yes      No                  Yes   25    Male   \n",
      "4       Asthma   Yes   Yes      No                  Yes   25    Male   \n",
      "\n",
      "  Blood Pressure Cholesterol Level Outcome Variable  \n",
      "0            Low            Normal         Positive  \n",
      "1         Normal            Normal         Negative  \n",
      "2         Normal            Normal         Negative  \n",
      "3         Normal            Normal         Positive  \n",
      "4         Normal            Normal         Positive  \n"
     ]
    }
   ],
   "source": [
    "import pandas as pd\n",
    "import numpy as np\n",
    "import matplotlib.pyplot as plt\n",
    "df = pd.read_csv(\"Disease_symptom_and_patient_profile_dataset.csv\")\n",
    "print(df.head())"
   ]
  },
  {
   "cell_type": "code",
   "execution_count": 2,
   "id": "44284b1c",
   "metadata": {},
   "outputs": [
    {
     "name": "stdout",
     "output_type": "stream",
     "text": [
      "<class 'pandas.core.frame.DataFrame'>\n",
      "RangeIndex: 349 entries, 0 to 348\n",
      "Data columns (total 10 columns):\n",
      " #   Column                Non-Null Count  Dtype \n",
      "---  ------                --------------  ----- \n",
      " 0   Disease               349 non-null    object\n",
      " 1   Fever                 349 non-null    object\n",
      " 2   Cough                 349 non-null    object\n",
      " 3   Fatigue               349 non-null    object\n",
      " 4   Difficulty Breathing  349 non-null    object\n",
      " 5   Age                   349 non-null    int64 \n",
      " 6   Gender                349 non-null    object\n",
      " 7   Blood Pressure        349 non-null    object\n",
      " 8   Cholesterol Level     349 non-null    object\n",
      " 9   Outcome Variable      349 non-null    object\n",
      "dtypes: int64(1), object(9)\n",
      "memory usage: 27.4+ KB\n",
      "None\n"
     ]
    }
   ],
   "source": [
    "## # Checking Data Types of columns.\n",
    "print(df.info())"
   ]
  },
  {
   "cell_type": "code",
   "execution_count": 3,
   "id": "5c9409a7",
   "metadata": {},
   "outputs": [
    {
     "data": {
      "text/plain": [
       "Index(['Disease', 'Fever', 'Cough', 'Fatigue', 'Difficulty Breathing', 'Age',\n",
       "       'Gender', 'Blood Pressure', 'Cholesterol Level', 'Outcome Variable'],\n",
       "      dtype='object')"
      ]
     },
     "execution_count": 3,
     "metadata": {},
     "output_type": "execute_result"
    }
   ],
   "source": [
    "df.columns"
   ]
  },
  {
   "cell_type": "code",
   "execution_count": 4,
   "id": "0b332d62",
   "metadata": {},
   "outputs": [
    {
     "data": {
      "text/plain": [
       "(349, 10)"
      ]
     },
     "execution_count": 4,
     "metadata": {},
     "output_type": "execute_result"
    }
   ],
   "source": [
    "# What is the size of dataset\n",
    "df.shape\n"
   ]
  },
  {
   "cell_type": "code",
   "execution_count": 5,
   "id": "79e0dd8b",
   "metadata": {},
   "outputs": [
    {
     "data": {
      "text/plain": [
       "Disease                 object\n",
       "Fever                   object\n",
       "Cough                   object\n",
       "Fatigue                 object\n",
       "Difficulty Breathing    object\n",
       "Age                      int64\n",
       "Gender                  object\n",
       "Blood Pressure          object\n",
       "Cholesterol Level       object\n",
       "Outcome Variable        object\n",
       "dtype: object"
      ]
     },
     "execution_count": 5,
     "metadata": {},
     "output_type": "execute_result"
    }
   ],
   "source": [
    "## to print the data type of each column in the DataFrame df.\n",
    "df.dtypes"
   ]
  },
  {
   "cell_type": "code",
   "execution_count": 6,
   "id": "07920e34",
   "metadata": {},
   "outputs": [
    {
     "data": {
      "text/plain": [
       "349"
      ]
     },
     "execution_count": 6,
     "metadata": {},
     "output_type": "execute_result"
    }
   ],
   "source": [
    "df['Disease'].value_counts().sum()"
   ]
  },
  {
   "cell_type": "code",
   "execution_count": 7,
   "id": "28d4c31b",
   "metadata": {},
   "outputs": [
    {
     "data": {
      "text/plain": [
       "46.32378223495702"
      ]
     },
     "execution_count": 7,
     "metadata": {},
     "output_type": "execute_result"
    }
   ],
   "source": [
    "df['Age'].mean()"
   ]
  },
  {
   "cell_type": "markdown",
   "id": "c26cbfb6",
   "metadata": {},
   "source": [
    "Before we proceed with further analysis or model building, it's crucial to ensure the quality of our data. This involves checking for and handling missing values (NaNs) and duplicate entries.\n",
    "\n",
    "Missing Values: Missing data can lead to misleading results and reduce the statistical power of the model. Therefore, we need to check if our dataset contains any NaN values.\n",
    "\n",
    "Duplicate Values: Duplicate entries can bias the analysis by over-representing certain observations. Hence, it's important to identify and remove any duplicates in our dataset."
   ]
  },
  {
   "cell_type": "code",
   "execution_count": 8,
   "id": "daee3aec",
   "metadata": {},
   "outputs": [
    {
     "data": {
      "text/plain": [
       "Disease                 0\n",
       "Fever                   0\n",
       "Cough                   0\n",
       "Fatigue                 0\n",
       "Difficulty Breathing    0\n",
       "Age                     0\n",
       "Gender                  0\n",
       "Blood Pressure          0\n",
       "Cholesterol Level       0\n",
       "Outcome Variable        0\n",
       "dtype: int64"
      ]
     },
     "execution_count": 8,
     "metadata": {},
     "output_type": "execute_result"
    }
   ],
   "source": [
    "## To count the number of missing values in each column of our dataframe df.\n",
    "df.isna().sum()"
   ]
  },
  {
   "cell_type": "code",
   "execution_count": 9,
   "id": "36b9ea2c",
   "metadata": {},
   "outputs": [
    {
     "data": {
      "text/html": [
       "<div>\n",
       "<style scoped>\n",
       "    .dataframe tbody tr th:only-of-type {\n",
       "        vertical-align: middle;\n",
       "    }\n",
       "\n",
       "    .dataframe tbody tr th {\n",
       "        vertical-align: top;\n",
       "    }\n",
       "\n",
       "    .dataframe thead th {\n",
       "        text-align: right;\n",
       "    }\n",
       "</style>\n",
       "<table border=\"1\" class=\"dataframe\">\n",
       "  <thead>\n",
       "    <tr style=\"text-align: right;\">\n",
       "      <th></th>\n",
       "      <th>Disease</th>\n",
       "      <th>Fever</th>\n",
       "      <th>Cough</th>\n",
       "      <th>Fatigue</th>\n",
       "      <th>Difficulty Breathing</th>\n",
       "      <th>Age</th>\n",
       "      <th>Gender</th>\n",
       "      <th>Blood Pressure</th>\n",
       "      <th>Cholesterol Level</th>\n",
       "      <th>Outcome Variable</th>\n",
       "    </tr>\n",
       "  </thead>\n",
       "  <tbody>\n",
       "    <tr>\n",
       "      <th>4</th>\n",
       "      <td>Asthma</td>\n",
       "      <td>Yes</td>\n",
       "      <td>Yes</td>\n",
       "      <td>No</td>\n",
       "      <td>Yes</td>\n",
       "      <td>25</td>\n",
       "      <td>Male</td>\n",
       "      <td>Normal</td>\n",
       "      <td>Normal</td>\n",
       "      <td>Positive</td>\n",
       "    </tr>\n",
       "    <tr>\n",
       "      <th>7</th>\n",
       "      <td>Influenza</td>\n",
       "      <td>Yes</td>\n",
       "      <td>Yes</td>\n",
       "      <td>Yes</td>\n",
       "      <td>Yes</td>\n",
       "      <td>25</td>\n",
       "      <td>Female</td>\n",
       "      <td>Normal</td>\n",
       "      <td>Normal</td>\n",
       "      <td>Positive</td>\n",
       "    </tr>\n",
       "    <tr>\n",
       "      <th>9</th>\n",
       "      <td>Hyperthyroidism</td>\n",
       "      <td>No</td>\n",
       "      <td>Yes</td>\n",
       "      <td>No</td>\n",
       "      <td>No</td>\n",
       "      <td>28</td>\n",
       "      <td>Female</td>\n",
       "      <td>Normal</td>\n",
       "      <td>Normal</td>\n",
       "      <td>Negative</td>\n",
       "    </tr>\n",
       "    <tr>\n",
       "      <th>23</th>\n",
       "      <td>Dengue Fever</td>\n",
       "      <td>Yes</td>\n",
       "      <td>No</td>\n",
       "      <td>Yes</td>\n",
       "      <td>No</td>\n",
       "      <td>30</td>\n",
       "      <td>Female</td>\n",
       "      <td>Normal</td>\n",
       "      <td>Normal</td>\n",
       "      <td>Negative</td>\n",
       "    </tr>\n",
       "    <tr>\n",
       "      <th>35</th>\n",
       "      <td>Asthma</td>\n",
       "      <td>Yes</td>\n",
       "      <td>Yes</td>\n",
       "      <td>No</td>\n",
       "      <td>Yes</td>\n",
       "      <td>30</td>\n",
       "      <td>Female</td>\n",
       "      <td>Normal</td>\n",
       "      <td>Normal</td>\n",
       "      <td>Positive</td>\n",
       "    </tr>\n",
       "    <tr>\n",
       "      <th>40</th>\n",
       "      <td>Bronchitis</td>\n",
       "      <td>Yes</td>\n",
       "      <td>Yes</td>\n",
       "      <td>Yes</td>\n",
       "      <td>Yes</td>\n",
       "      <td>30</td>\n",
       "      <td>Male</td>\n",
       "      <td>High</td>\n",
       "      <td>High</td>\n",
       "      <td>Positive</td>\n",
       "    </tr>\n",
       "    <tr>\n",
       "      <th>59</th>\n",
       "      <td>Asthma</td>\n",
       "      <td>No</td>\n",
       "      <td>Yes</td>\n",
       "      <td>Yes</td>\n",
       "      <td>Yes</td>\n",
       "      <td>35</td>\n",
       "      <td>Female</td>\n",
       "      <td>High</td>\n",
       "      <td>Normal</td>\n",
       "      <td>Negative</td>\n",
       "    </tr>\n",
       "    <tr>\n",
       "      <th>69</th>\n",
       "      <td>Pneumonia</td>\n",
       "      <td>Yes</td>\n",
       "      <td>Yes</td>\n",
       "      <td>Yes</td>\n",
       "      <td>Yes</td>\n",
       "      <td>35</td>\n",
       "      <td>Female</td>\n",
       "      <td>Normal</td>\n",
       "      <td>Normal</td>\n",
       "      <td>Negative</td>\n",
       "    </tr>\n",
       "    <tr>\n",
       "      <th>73</th>\n",
       "      <td>Rubella</td>\n",
       "      <td>Yes</td>\n",
       "      <td>No</td>\n",
       "      <td>Yes</td>\n",
       "      <td>No</td>\n",
       "      <td>35</td>\n",
       "      <td>Female</td>\n",
       "      <td>High</td>\n",
       "      <td>Normal</td>\n",
       "      <td>Negative</td>\n",
       "    </tr>\n",
       "    <tr>\n",
       "      <th>76</th>\n",
       "      <td>Asthma</td>\n",
       "      <td>Yes</td>\n",
       "      <td>Yes</td>\n",
       "      <td>No</td>\n",
       "      <td>Yes</td>\n",
       "      <td>35</td>\n",
       "      <td>Male</td>\n",
       "      <td>Normal</td>\n",
       "      <td>Normal</td>\n",
       "      <td>Positive</td>\n",
       "    </tr>\n",
       "    <tr>\n",
       "      <th>82</th>\n",
       "      <td>Hyperthyroidism</td>\n",
       "      <td>Yes</td>\n",
       "      <td>Yes</td>\n",
       "      <td>Yes</td>\n",
       "      <td>No</td>\n",
       "      <td>35</td>\n",
       "      <td>Male</td>\n",
       "      <td>High</td>\n",
       "      <td>High</td>\n",
       "      <td>Positive</td>\n",
       "    </tr>\n",
       "    <tr>\n",
       "      <th>87</th>\n",
       "      <td>Malaria</td>\n",
       "      <td>Yes</td>\n",
       "      <td>No</td>\n",
       "      <td>No</td>\n",
       "      <td>No</td>\n",
       "      <td>35</td>\n",
       "      <td>Male</td>\n",
       "      <td>High</td>\n",
       "      <td>High</td>\n",
       "      <td>Positive</td>\n",
       "    </tr>\n",
       "    <tr>\n",
       "      <th>120</th>\n",
       "      <td>Rabies</td>\n",
       "      <td>Yes</td>\n",
       "      <td>Yes</td>\n",
       "      <td>No</td>\n",
       "      <td>No</td>\n",
       "      <td>40</td>\n",
       "      <td>Female</td>\n",
       "      <td>High</td>\n",
       "      <td>Normal</td>\n",
       "      <td>Negative</td>\n",
       "    </tr>\n",
       "    <tr>\n",
       "      <th>123</th>\n",
       "      <td>Asthma</td>\n",
       "      <td>Yes</td>\n",
       "      <td>Yes</td>\n",
       "      <td>No</td>\n",
       "      <td>Yes</td>\n",
       "      <td>40</td>\n",
       "      <td>Female</td>\n",
       "      <td>Normal</td>\n",
       "      <td>Normal</td>\n",
       "      <td>Positive</td>\n",
       "    </tr>\n",
       "    <tr>\n",
       "      <th>126</th>\n",
       "      <td>Asthma</td>\n",
       "      <td>Yes</td>\n",
       "      <td>No</td>\n",
       "      <td>Yes</td>\n",
       "      <td>Yes</td>\n",
       "      <td>40</td>\n",
       "      <td>Male</td>\n",
       "      <td>Normal</td>\n",
       "      <td>High</td>\n",
       "      <td>Positive</td>\n",
       "    </tr>\n",
       "    <tr>\n",
       "      <th>128</th>\n",
       "      <td>Chickenpox</td>\n",
       "      <td>No</td>\n",
       "      <td>Yes</td>\n",
       "      <td>No</td>\n",
       "      <td>No</td>\n",
       "      <td>40</td>\n",
       "      <td>Male</td>\n",
       "      <td>Normal</td>\n",
       "      <td>High</td>\n",
       "      <td>Positive</td>\n",
       "    </tr>\n",
       "    <tr>\n",
       "      <th>142</th>\n",
       "      <td>Tuberculosis</td>\n",
       "      <td>Yes</td>\n",
       "      <td>Yes</td>\n",
       "      <td>Yes</td>\n",
       "      <td>Yes</td>\n",
       "      <td>40</td>\n",
       "      <td>Male</td>\n",
       "      <td>High</td>\n",
       "      <td>High</td>\n",
       "      <td>Positive</td>\n",
       "    </tr>\n",
       "    <tr>\n",
       "      <th>157</th>\n",
       "      <td>Hypothyroidism</td>\n",
       "      <td>Yes</td>\n",
       "      <td>Yes</td>\n",
       "      <td>Yes</td>\n",
       "      <td>No</td>\n",
       "      <td>42</td>\n",
       "      <td>Female</td>\n",
       "      <td>High</td>\n",
       "      <td>High</td>\n",
       "      <td>Positive</td>\n",
       "    </tr>\n",
       "    <tr>\n",
       "      <th>164</th>\n",
       "      <td>Hepatitis</td>\n",
       "      <td>Yes</td>\n",
       "      <td>No</td>\n",
       "      <td>Yes</td>\n",
       "      <td>No</td>\n",
       "      <td>45</td>\n",
       "      <td>Female</td>\n",
       "      <td>High</td>\n",
       "      <td>High</td>\n",
       "      <td>Negative</td>\n",
       "    </tr>\n",
       "    <tr>\n",
       "      <th>175</th>\n",
       "      <td>Turner Syndrome</td>\n",
       "      <td>No</td>\n",
       "      <td>No</td>\n",
       "      <td>Yes</td>\n",
       "      <td>No</td>\n",
       "      <td>45</td>\n",
       "      <td>Male</td>\n",
       "      <td>High</td>\n",
       "      <td>High</td>\n",
       "      <td>Negative</td>\n",
       "    </tr>\n",
       "    <tr>\n",
       "      <th>178</th>\n",
       "      <td>Zika Virus</td>\n",
       "      <td>No</td>\n",
       "      <td>Yes</td>\n",
       "      <td>Yes</td>\n",
       "      <td>No</td>\n",
       "      <td>45</td>\n",
       "      <td>Female</td>\n",
       "      <td>High</td>\n",
       "      <td>High</td>\n",
       "      <td>Negative</td>\n",
       "    </tr>\n",
       "    <tr>\n",
       "      <th>182</th>\n",
       "      <td>Asthma</td>\n",
       "      <td>Yes</td>\n",
       "      <td>Yes</td>\n",
       "      <td>No</td>\n",
       "      <td>Yes</td>\n",
       "      <td>45</td>\n",
       "      <td>Male</td>\n",
       "      <td>Normal</td>\n",
       "      <td>Normal</td>\n",
       "      <td>Positive</td>\n",
       "    </tr>\n",
       "    <tr>\n",
       "      <th>193</th>\n",
       "      <td>Multiple Sclerosis</td>\n",
       "      <td>Yes</td>\n",
       "      <td>No</td>\n",
       "      <td>No</td>\n",
       "      <td>No</td>\n",
       "      <td>45</td>\n",
       "      <td>Female</td>\n",
       "      <td>High</td>\n",
       "      <td>High</td>\n",
       "      <td>Positive</td>\n",
       "    </tr>\n",
       "    <tr>\n",
       "      <th>201</th>\n",
       "      <td>Tetanus</td>\n",
       "      <td>No</td>\n",
       "      <td>No</td>\n",
       "      <td>Yes</td>\n",
       "      <td>No</td>\n",
       "      <td>45</td>\n",
       "      <td>Male</td>\n",
       "      <td>Normal</td>\n",
       "      <td>High</td>\n",
       "      <td>Positive</td>\n",
       "    </tr>\n",
       "    <tr>\n",
       "      <th>204</th>\n",
       "      <td>Hypothyroidism</td>\n",
       "      <td>No</td>\n",
       "      <td>No</td>\n",
       "      <td>Yes</td>\n",
       "      <td>No</td>\n",
       "      <td>48</td>\n",
       "      <td>Male</td>\n",
       "      <td>Normal</td>\n",
       "      <td>High</td>\n",
       "      <td>Negative</td>\n",
       "    </tr>\n",
       "    <tr>\n",
       "      <th>209</th>\n",
       "      <td>Cholera</td>\n",
       "      <td>Yes</td>\n",
       "      <td>No</td>\n",
       "      <td>Yes</td>\n",
       "      <td>Yes</td>\n",
       "      <td>50</td>\n",
       "      <td>Female</td>\n",
       "      <td>High</td>\n",
       "      <td>High</td>\n",
       "      <td>Negative</td>\n",
       "    </tr>\n",
       "    <tr>\n",
       "      <th>228</th>\n",
       "      <td>Ebola Virus</td>\n",
       "      <td>Yes</td>\n",
       "      <td>Yes</td>\n",
       "      <td>Yes</td>\n",
       "      <td>Yes</td>\n",
       "      <td>50</td>\n",
       "      <td>Male</td>\n",
       "      <td>Normal</td>\n",
       "      <td>Normal</td>\n",
       "      <td>Positive</td>\n",
       "    </tr>\n",
       "    <tr>\n",
       "      <th>234</th>\n",
       "      <td>Lyme Disease</td>\n",
       "      <td>Yes</td>\n",
       "      <td>No</td>\n",
       "      <td>No</td>\n",
       "      <td>No</td>\n",
       "      <td>50</td>\n",
       "      <td>Male</td>\n",
       "      <td>Normal</td>\n",
       "      <td>High</td>\n",
       "      <td>Positive</td>\n",
       "    </tr>\n",
       "    <tr>\n",
       "      <th>241</th>\n",
       "      <td>Multiple Sclerosis</td>\n",
       "      <td>No</td>\n",
       "      <td>Yes</td>\n",
       "      <td>Yes</td>\n",
       "      <td>No</td>\n",
       "      <td>52</td>\n",
       "      <td>Male</td>\n",
       "      <td>Normal</td>\n",
       "      <td>Normal</td>\n",
       "      <td>Negative</td>\n",
       "    </tr>\n",
       "    <tr>\n",
       "      <th>249</th>\n",
       "      <td>HIV/AIDS</td>\n",
       "      <td>Yes</td>\n",
       "      <td>No</td>\n",
       "      <td>No</td>\n",
       "      <td>No</td>\n",
       "      <td>55</td>\n",
       "      <td>Female</td>\n",
       "      <td>High</td>\n",
       "      <td>High</td>\n",
       "      <td>Negative</td>\n",
       "    </tr>\n",
       "    <tr>\n",
       "      <th>256</th>\n",
       "      <td>Parkinson's Disease</td>\n",
       "      <td>No</td>\n",
       "      <td>No</td>\n",
       "      <td>Yes</td>\n",
       "      <td>No</td>\n",
       "      <td>55</td>\n",
       "      <td>Female</td>\n",
       "      <td>Normal</td>\n",
       "      <td>Low</td>\n",
       "      <td>Negative</td>\n",
       "    </tr>\n",
       "    <tr>\n",
       "      <th>259</th>\n",
       "      <td>Coronary Artery Disease</td>\n",
       "      <td>No</td>\n",
       "      <td>No</td>\n",
       "      <td>Yes</td>\n",
       "      <td>No</td>\n",
       "      <td>55</td>\n",
       "      <td>Female</td>\n",
       "      <td>Normal</td>\n",
       "      <td>Normal</td>\n",
       "      <td>Positive</td>\n",
       "    </tr>\n",
       "    <tr>\n",
       "      <th>267</th>\n",
       "      <td>Osteoporosis</td>\n",
       "      <td>Yes</td>\n",
       "      <td>No</td>\n",
       "      <td>Yes</td>\n",
       "      <td>No</td>\n",
       "      <td>55</td>\n",
       "      <td>Female</td>\n",
       "      <td>Normal</td>\n",
       "      <td>Normal</td>\n",
       "      <td>Positive</td>\n",
       "    </tr>\n",
       "    <tr>\n",
       "      <th>271</th>\n",
       "      <td>Typhoid Fever</td>\n",
       "      <td>No</td>\n",
       "      <td>Yes</td>\n",
       "      <td>No</td>\n",
       "      <td>No</td>\n",
       "      <td>55</td>\n",
       "      <td>Male</td>\n",
       "      <td>Normal</td>\n",
       "      <td>Low</td>\n",
       "      <td>Positive</td>\n",
       "    </tr>\n",
       "    <tr>\n",
       "      <th>276</th>\n",
       "      <td>Coronary Artery Disease</td>\n",
       "      <td>Yes</td>\n",
       "      <td>Yes</td>\n",
       "      <td>No</td>\n",
       "      <td>No</td>\n",
       "      <td>60</td>\n",
       "      <td>Male</td>\n",
       "      <td>High</td>\n",
       "      <td>High</td>\n",
       "      <td>Negative</td>\n",
       "    </tr>\n",
       "    <tr>\n",
       "      <th>279</th>\n",
       "      <td>Measles</td>\n",
       "      <td>Yes</td>\n",
       "      <td>Yes</td>\n",
       "      <td>No</td>\n",
       "      <td>No</td>\n",
       "      <td>60</td>\n",
       "      <td>Female</td>\n",
       "      <td>High</td>\n",
       "      <td>Normal</td>\n",
       "      <td>Negative</td>\n",
       "    </tr>\n",
       "    <tr>\n",
       "      <th>284</th>\n",
       "      <td>Osteoporosis</td>\n",
       "      <td>No</td>\n",
       "      <td>Yes</td>\n",
       "      <td>No</td>\n",
       "      <td>No</td>\n",
       "      <td>60</td>\n",
       "      <td>Male</td>\n",
       "      <td>High</td>\n",
       "      <td>High</td>\n",
       "      <td>Negative</td>\n",
       "    </tr>\n",
       "    <tr>\n",
       "      <th>290</th>\n",
       "      <td>Hepatitis B</td>\n",
       "      <td>No</td>\n",
       "      <td>Yes</td>\n",
       "      <td>Yes</td>\n",
       "      <td>No</td>\n",
       "      <td>60</td>\n",
       "      <td>Male</td>\n",
       "      <td>Normal</td>\n",
       "      <td>Low</td>\n",
       "      <td>Positive</td>\n",
       "    </tr>\n",
       "    <tr>\n",
       "      <th>299</th>\n",
       "      <td>Parkinson's Disease</td>\n",
       "      <td>Yes</td>\n",
       "      <td>Yes</td>\n",
       "      <td>No</td>\n",
       "      <td>No</td>\n",
       "      <td>60</td>\n",
       "      <td>Male</td>\n",
       "      <td>High</td>\n",
       "      <td>Normal</td>\n",
       "      <td>Positive</td>\n",
       "    </tr>\n",
       "    <tr>\n",
       "      <th>308</th>\n",
       "      <td>Stroke</td>\n",
       "      <td>Yes</td>\n",
       "      <td>No</td>\n",
       "      <td>Yes</td>\n",
       "      <td>No</td>\n",
       "      <td>65</td>\n",
       "      <td>Female</td>\n",
       "      <td>High</td>\n",
       "      <td>Low</td>\n",
       "      <td>Negative</td>\n",
       "    </tr>\n",
       "    <tr>\n",
       "      <th>312</th>\n",
       "      <td>Alzheimer's Disease</td>\n",
       "      <td>No</td>\n",
       "      <td>Yes</td>\n",
       "      <td>No</td>\n",
       "      <td>No</td>\n",
       "      <td>65</td>\n",
       "      <td>Male</td>\n",
       "      <td>Normal</td>\n",
       "      <td>High</td>\n",
       "      <td>Positive</td>\n",
       "    </tr>\n",
       "    <tr>\n",
       "      <th>316</th>\n",
       "      <td>Chronic Obstructive Pulmonary Disease (COPD)</td>\n",
       "      <td>Yes</td>\n",
       "      <td>No</td>\n",
       "      <td>Yes</td>\n",
       "      <td>Yes</td>\n",
       "      <td>65</td>\n",
       "      <td>Female</td>\n",
       "      <td>High</td>\n",
       "      <td>High</td>\n",
       "      <td>Positive</td>\n",
       "    </tr>\n",
       "    <tr>\n",
       "      <th>324</th>\n",
       "      <td>Mumps</td>\n",
       "      <td>No</td>\n",
       "      <td>No</td>\n",
       "      <td>Yes</td>\n",
       "      <td>No</td>\n",
       "      <td>65</td>\n",
       "      <td>Male</td>\n",
       "      <td>Normal</td>\n",
       "      <td>High</td>\n",
       "      <td>Positive</td>\n",
       "    </tr>\n",
       "    <tr>\n",
       "      <th>328</th>\n",
       "      <td>Alzheimer's Disease</td>\n",
       "      <td>Yes</td>\n",
       "      <td>No</td>\n",
       "      <td>Yes</td>\n",
       "      <td>No</td>\n",
       "      <td>70</td>\n",
       "      <td>Female</td>\n",
       "      <td>High</td>\n",
       "      <td>Normal</td>\n",
       "      <td>Negative</td>\n",
       "    </tr>\n",
       "    <tr>\n",
       "      <th>331</th>\n",
       "      <td>Chronic Obstructive Pulmonary Disease (COPD)</td>\n",
       "      <td>No</td>\n",
       "      <td>Yes</td>\n",
       "      <td>Yes</td>\n",
       "      <td>Yes</td>\n",
       "      <td>70</td>\n",
       "      <td>Male</td>\n",
       "      <td>Normal</td>\n",
       "      <td>High</td>\n",
       "      <td>Negative</td>\n",
       "    </tr>\n",
       "    <tr>\n",
       "      <th>339</th>\n",
       "      <td>Stroke</td>\n",
       "      <td>No</td>\n",
       "      <td>Yes</td>\n",
       "      <td>No</td>\n",
       "      <td>No</td>\n",
       "      <td>70</td>\n",
       "      <td>Male</td>\n",
       "      <td>Normal</td>\n",
       "      <td>High</td>\n",
       "      <td>Positive</td>\n",
       "    </tr>\n",
       "    <tr>\n",
       "      <th>344</th>\n",
       "      <td>Stroke</td>\n",
       "      <td>Yes</td>\n",
       "      <td>No</td>\n",
       "      <td>Yes</td>\n",
       "      <td>No</td>\n",
       "      <td>80</td>\n",
       "      <td>Female</td>\n",
       "      <td>High</td>\n",
       "      <td>High</td>\n",
       "      <td>Positive</td>\n",
       "    </tr>\n",
       "    <tr>\n",
       "      <th>346</th>\n",
       "      <td>Stroke</td>\n",
       "      <td>Yes</td>\n",
       "      <td>No</td>\n",
       "      <td>Yes</td>\n",
       "      <td>No</td>\n",
       "      <td>85</td>\n",
       "      <td>Male</td>\n",
       "      <td>High</td>\n",
       "      <td>High</td>\n",
       "      <td>Positive</td>\n",
       "    </tr>\n",
       "    <tr>\n",
       "      <th>348</th>\n",
       "      <td>Stroke</td>\n",
       "      <td>Yes</td>\n",
       "      <td>No</td>\n",
       "      <td>Yes</td>\n",
       "      <td>No</td>\n",
       "      <td>90</td>\n",
       "      <td>Female</td>\n",
       "      <td>High</td>\n",
       "      <td>High</td>\n",
       "      <td>Positive</td>\n",
       "    </tr>\n",
       "  </tbody>\n",
       "</table>\n",
       "</div>"
      ],
      "text/plain": [
       "                                          Disease Fever Cough Fatigue  \\\n",
       "4                                          Asthma   Yes   Yes      No   \n",
       "7                                       Influenza   Yes   Yes     Yes   \n",
       "9                                 Hyperthyroidism    No   Yes      No   \n",
       "23                                   Dengue Fever   Yes    No     Yes   \n",
       "35                                         Asthma   Yes   Yes      No   \n",
       "40                                     Bronchitis   Yes   Yes     Yes   \n",
       "59                                         Asthma    No   Yes     Yes   \n",
       "69                                      Pneumonia   Yes   Yes     Yes   \n",
       "73                                        Rubella   Yes    No     Yes   \n",
       "76                                         Asthma   Yes   Yes      No   \n",
       "82                                Hyperthyroidism   Yes   Yes     Yes   \n",
       "87                                        Malaria   Yes    No      No   \n",
       "120                                        Rabies   Yes   Yes      No   \n",
       "123                                        Asthma   Yes   Yes      No   \n",
       "126                                        Asthma   Yes    No     Yes   \n",
       "128                                    Chickenpox    No   Yes      No   \n",
       "142                                  Tuberculosis   Yes   Yes     Yes   \n",
       "157                                Hypothyroidism   Yes   Yes     Yes   \n",
       "164                                     Hepatitis   Yes    No     Yes   \n",
       "175                               Turner Syndrome    No    No     Yes   \n",
       "178                                    Zika Virus    No   Yes     Yes   \n",
       "182                                        Asthma   Yes   Yes      No   \n",
       "193                            Multiple Sclerosis   Yes    No      No   \n",
       "201                                       Tetanus    No    No     Yes   \n",
       "204                                Hypothyroidism    No    No     Yes   \n",
       "209                                       Cholera   Yes    No     Yes   \n",
       "228                                   Ebola Virus   Yes   Yes     Yes   \n",
       "234                                  Lyme Disease   Yes    No      No   \n",
       "241                            Multiple Sclerosis    No   Yes     Yes   \n",
       "249                                      HIV/AIDS   Yes    No      No   \n",
       "256                           Parkinson's Disease    No    No     Yes   \n",
       "259                       Coronary Artery Disease    No    No     Yes   \n",
       "267                                  Osteoporosis   Yes    No     Yes   \n",
       "271                                 Typhoid Fever    No   Yes      No   \n",
       "276                       Coronary Artery Disease   Yes   Yes      No   \n",
       "279                                       Measles   Yes   Yes      No   \n",
       "284                                  Osteoporosis    No   Yes      No   \n",
       "290                                   Hepatitis B    No   Yes     Yes   \n",
       "299                           Parkinson's Disease   Yes   Yes      No   \n",
       "308                                        Stroke   Yes    No     Yes   \n",
       "312                           Alzheimer's Disease    No   Yes      No   \n",
       "316  Chronic Obstructive Pulmonary Disease (COPD)   Yes    No     Yes   \n",
       "324                                         Mumps    No    No     Yes   \n",
       "328                           Alzheimer's Disease   Yes    No     Yes   \n",
       "331  Chronic Obstructive Pulmonary Disease (COPD)    No   Yes     Yes   \n",
       "339                                        Stroke    No   Yes      No   \n",
       "344                                        Stroke   Yes    No     Yes   \n",
       "346                                        Stroke   Yes    No     Yes   \n",
       "348                                        Stroke   Yes    No     Yes   \n",
       "\n",
       "    Difficulty Breathing  Age  Gender Blood Pressure Cholesterol Level  \\\n",
       "4                    Yes   25    Male         Normal            Normal   \n",
       "7                    Yes   25  Female         Normal            Normal   \n",
       "9                     No   28  Female         Normal            Normal   \n",
       "23                    No   30  Female         Normal            Normal   \n",
       "35                   Yes   30  Female         Normal            Normal   \n",
       "40                   Yes   30    Male           High              High   \n",
       "59                   Yes   35  Female           High            Normal   \n",
       "69                   Yes   35  Female         Normal            Normal   \n",
       "73                    No   35  Female           High            Normal   \n",
       "76                   Yes   35    Male         Normal            Normal   \n",
       "82                    No   35    Male           High              High   \n",
       "87                    No   35    Male           High              High   \n",
       "120                   No   40  Female           High            Normal   \n",
       "123                  Yes   40  Female         Normal            Normal   \n",
       "126                  Yes   40    Male         Normal              High   \n",
       "128                   No   40    Male         Normal              High   \n",
       "142                  Yes   40    Male           High              High   \n",
       "157                   No   42  Female           High              High   \n",
       "164                   No   45  Female           High              High   \n",
       "175                   No   45    Male           High              High   \n",
       "178                   No   45  Female           High              High   \n",
       "182                  Yes   45    Male         Normal            Normal   \n",
       "193                   No   45  Female           High              High   \n",
       "201                   No   45    Male         Normal              High   \n",
       "204                   No   48    Male         Normal              High   \n",
       "209                  Yes   50  Female           High              High   \n",
       "228                  Yes   50    Male         Normal            Normal   \n",
       "234                   No   50    Male         Normal              High   \n",
       "241                   No   52    Male         Normal            Normal   \n",
       "249                   No   55  Female           High              High   \n",
       "256                   No   55  Female         Normal               Low   \n",
       "259                   No   55  Female         Normal            Normal   \n",
       "267                   No   55  Female         Normal            Normal   \n",
       "271                   No   55    Male         Normal               Low   \n",
       "276                   No   60    Male           High              High   \n",
       "279                   No   60  Female           High            Normal   \n",
       "284                   No   60    Male           High              High   \n",
       "290                   No   60    Male         Normal               Low   \n",
       "299                   No   60    Male           High            Normal   \n",
       "308                   No   65  Female           High               Low   \n",
       "312                   No   65    Male         Normal              High   \n",
       "316                  Yes   65  Female           High              High   \n",
       "324                   No   65    Male         Normal              High   \n",
       "328                   No   70  Female           High            Normal   \n",
       "331                  Yes   70    Male         Normal              High   \n",
       "339                   No   70    Male         Normal              High   \n",
       "344                   No   80  Female           High              High   \n",
       "346                   No   85    Male           High              High   \n",
       "348                   No   90  Female           High              High   \n",
       "\n",
       "    Outcome Variable  \n",
       "4           Positive  \n",
       "7           Positive  \n",
       "9           Negative  \n",
       "23          Negative  \n",
       "35          Positive  \n",
       "40          Positive  \n",
       "59          Negative  \n",
       "69          Negative  \n",
       "73          Negative  \n",
       "76          Positive  \n",
       "82          Positive  \n",
       "87          Positive  \n",
       "120         Negative  \n",
       "123         Positive  \n",
       "126         Positive  \n",
       "128         Positive  \n",
       "142         Positive  \n",
       "157         Positive  \n",
       "164         Negative  \n",
       "175         Negative  \n",
       "178         Negative  \n",
       "182         Positive  \n",
       "193         Positive  \n",
       "201         Positive  \n",
       "204         Negative  \n",
       "209         Negative  \n",
       "228         Positive  \n",
       "234         Positive  \n",
       "241         Negative  \n",
       "249         Negative  \n",
       "256         Negative  \n",
       "259         Positive  \n",
       "267         Positive  \n",
       "271         Positive  \n",
       "276         Negative  \n",
       "279         Negative  \n",
       "284         Negative  \n",
       "290         Positive  \n",
       "299         Positive  \n",
       "308         Negative  \n",
       "312         Positive  \n",
       "316         Positive  \n",
       "324         Positive  \n",
       "328         Negative  \n",
       "331         Negative  \n",
       "339         Positive  \n",
       "344         Positive  \n",
       "346         Positive  \n",
       "348         Positive  "
      ]
     },
     "execution_count": 9,
     "metadata": {},
     "output_type": "execute_result"
    }
   ],
   "source": [
    "# will print the duplicated rows in your Df. If there are no duplicated rows, it will print an empty Df.\n",
    "\n",
    "df.loc[df.duplicated()]"
   ]
  },
  {
   "cell_type": "code",
   "execution_count": 10,
   "id": "bec9d035",
   "metadata": {},
   "outputs": [
    {
     "data": {
      "text/plain": [
       "49"
      ]
     },
     "execution_count": 10,
     "metadata": {},
     "output_type": "execute_result"
    }
   ],
   "source": [
    "df.duplicated().sum()"
   ]
  },
  {
   "cell_type": "code",
   "execution_count": 11,
   "id": "8145d8f6",
   "metadata": {},
   "outputs": [
    {
     "data": {
      "text/plain": [
       "Disease                 116\n",
       "Fever                     2\n",
       "Cough                     2\n",
       "Fatigue                   2\n",
       "Difficulty Breathing      2\n",
       "Age                      26\n",
       "Gender                    2\n",
       "Blood Pressure            3\n",
       "Cholesterol Level         3\n",
       "Outcome Variable          2\n",
       "dtype: int64"
      ]
     },
     "execution_count": 11,
     "metadata": {},
     "output_type": "execute_result"
    }
   ],
   "source": [
    "#let's check for number of unique values\n",
    "df.nunique()"
   ]
  },
  {
   "cell_type": "code",
   "execution_count": 12,
   "id": "361361d2",
   "metadata": {},
   "outputs": [
    {
     "name": "stdout",
     "output_type": "stream",
     "text": [
      "['Yes' 'No']\n",
      "['No' 'Yes']\n",
      "['Yes' 'No']\n",
      "['Yes' 'No']\n",
      "['Positive' 'Negative']\n",
      "['Influenza' 'Common Cold' 'Eczema' 'Asthma' 'Hyperthyroidism'\n",
      " 'Allergic Rhinitis' 'Anxiety Disorders' 'Diabetes' 'Gastroenteritis'\n",
      " 'Pancreatitis' 'Rheumatoid Arthritis' 'Depression' 'Liver Cancer'\n",
      " 'Stroke' 'Urinary Tract Infection' 'Dengue Fever' 'Hepatitis'\n",
      " 'Kidney Cancer' 'Migraine' 'Muscular Dystrophy' 'Sinusitis'\n",
      " 'Ulcerative Colitis' 'Bipolar Disorder' 'Bronchitis' 'Cerebral Palsy'\n",
      " 'Colorectal Cancer' 'Hypertensive Heart Disease' 'Multiple Sclerosis'\n",
      " 'Myocardial Infarction (Heart...' 'Urinary Tract Infection (UTI)'\n",
      " 'Osteoporosis' 'Pneumonia' 'Atherosclerosis'\n",
      " 'Chronic Obstructive Pulmonary...' 'Epilepsy' 'Hypertension'\n",
      " 'Obsessive-Compulsive Disorde...' 'Psoriasis' 'Rubella' 'Cirrhosis'\n",
      " 'Conjunctivitis (Pink Eye)' 'Liver Disease' 'Malaria' 'Spina Bifida'\n",
      " 'Kidney Disease' 'Osteoarthritis' 'Klinefelter Syndrome' 'Acne'\n",
      " 'Brain Tumor' 'Cystic Fibrosis' 'Glaucoma' 'Rabies' 'Chickenpox'\n",
      " 'Coronary Artery Disease' 'Eating Disorders (Anorexia,...' 'Fibromyalgia'\n",
      " 'Hemophilia' 'Hypoglycemia' 'Lymphoma' 'Tuberculosis' 'Lung Cancer'\n",
      " 'Hypothyroidism' 'Autism Spectrum Disorder (ASD)' \"Crohn's Disease\"\n",
      " 'Hyperglycemia' 'Melanoma' 'Ovarian Cancer' 'Turner Syndrome'\n",
      " 'Zika Virus' 'Cataracts' 'Pneumocystis Pneumonia (PCP)' 'Scoliosis'\n",
      " 'Sickle Cell Anemia' 'Tetanus' 'Anemia' 'Cholera' 'Endometriosis'\n",
      " 'Sepsis' 'Sleep Apnea' 'Down Syndrome' 'Ebola Virus' 'Lyme Disease'\n",
      " 'Pancreatic Cancer' 'Pneumothorax' 'Appendicitis' 'Esophageal Cancer'\n",
      " 'HIV/AIDS' 'Marfan Syndrome' \"Parkinson's Disease\" 'Hemorrhoids'\n",
      " 'Polycystic Ovary Syndrome (PCOS)' 'Systemic Lupus Erythematosus...'\n",
      " 'Typhoid Fever' 'Breast Cancer' 'Measles' 'Osteomyelitis' 'Polio'\n",
      " 'Chronic Kidney Disease' 'Hepatitis B' 'Prader-Willi Syndrome'\n",
      " 'Thyroid Cancer' 'Bladder Cancer' 'Otitis Media (Ear Infection)'\n",
      " 'Tourette Syndrome' \"Alzheimer's Disease\"\n",
      " 'Chronic Obstructive Pulmonary Disease (COPD)' 'Dementia'\n",
      " 'Diverticulitis' 'Mumps' 'Cholecystitis' 'Prostate Cancer'\n",
      " 'Schizophrenia' 'Gout' 'Testicular Cancer' 'Tonsillitis'\n",
      " 'Williams Syndrome']\n",
      "['Low' 'Normal' 'High']\n",
      "['Low' 'Normal' 'High']\n",
      "[19 25 28 29 30 31 32 35 38 39 40 42 43 45 48 50 52 55 56 57 60 65 70 80\n",
      " 85 90]\n",
      "['Female' 'Male']\n"
     ]
    }
   ],
   "source": [
    "## to print an array containing the unique values present in column of df.\n",
    "print(df['Fever'].unique())\n",
    "print(df['Cough'].unique())\n",
    "print(df['Fatigue'].unique())\n",
    "print(df['Difficulty Breathing'].unique())\n",
    "print(df['Outcome Variable'].unique())\n",
    "print(df['Disease'].unique())\n",
    "print(df['Blood Pressure'].unique())\n",
    "print(df['Blood Pressure'].unique())\n",
    "print(df['Age'].unique())\n",
    "print(df['Gender'].unique())\n"
   ]
  },
  {
   "cell_type": "code",
   "execution_count": 13,
   "id": "e96b23f1",
   "metadata": {},
   "outputs": [
    {
     "name": "stdout",
     "output_type": "stream",
     "text": [
      "Fever\n",
      "Yes    175\n",
      "No     174\n",
      "Name: count, dtype: int64\n",
      "Cough\n",
      "No     182\n",
      "Yes    167\n",
      "Name: count, dtype: int64\n",
      "Fatigue\n",
      "Yes    242\n",
      "No     107\n",
      "Name: count, dtype: int64\n",
      "Difficulty Breathing\n",
      "No     261\n",
      "Yes     88\n",
      "Name: count, dtype: int64\n",
      "Outcome Variable\n",
      "Positive    186\n",
      "Negative    163\n",
      "Name: count, dtype: int64\n",
      "Disease\n",
      "Asthma                            23\n",
      "Stroke                            16\n",
      "Osteoporosis                      14\n",
      "Hypertension                      10\n",
      "Diabetes                          10\n",
      "                                  ..\n",
      "Autism Spectrum Disorder (ASD)     1\n",
      "Hypoglycemia                       1\n",
      "Fibromyalgia                       1\n",
      "Eating Disorders (Anorexia,...     1\n",
      "Williams Syndrome                  1\n",
      "Name: count, Length: 116, dtype: int64\n",
      "Blood Pressure\n",
      "High      167\n",
      "Normal    164\n",
      "Low        18\n",
      "Name: count, dtype: int64\n",
      "Blood Pressure\n",
      "High      167\n",
      "Normal    164\n",
      "Low        18\n",
      "Name: count, dtype: int64\n",
      "Age\n",
      "45    42\n",
      "35    42\n",
      "50    34\n",
      "40    31\n",
      "55    30\n",
      "60    30\n",
      "30    28\n",
      "65    23\n",
      "42    16\n",
      "70    16\n",
      "38    14\n",
      "29    11\n",
      "25     7\n",
      "31     4\n",
      "48     3\n",
      "52     3\n",
      "28     3\n",
      "85     2\n",
      "80     2\n",
      "90     2\n",
      "57     1\n",
      "56     1\n",
      "43     1\n",
      "39     1\n",
      "32     1\n",
      "19     1\n",
      "Name: count, dtype: int64\n",
      "Gender\n",
      "Female    176\n",
      "Male      173\n",
      "Name: count, dtype: int64\n"
     ]
    }
   ],
   "source": [
    "## to output the counts of each unique value in the column.\n",
    "print(df['Fever'].value_counts())\n",
    "print(df['Cough'].value_counts())\n",
    "print(df['Fatigue'].value_counts())\n",
    "print(df['Difficulty Breathing'].value_counts())\n",
    "print(df['Outcome Variable'].value_counts())\n",
    "print(df['Disease'].value_counts())\n",
    "print(df['Blood Pressure'].value_counts())\n",
    "print(df['Blood Pressure'].value_counts())\n",
    "print(df['Age'].value_counts())\n",
    "print(df['Gender'].value_counts())"
   ]
  },
  {
   "cell_type": "markdown",
   "id": "063dbe6c",
   "metadata": {},
   "source": [
    "## Data cleaning and conversion  ( Veri temizliği ve dönüşümü )"
   ]
  },
  {
   "cell_type": "markdown",
   "id": "c2ff4538",
   "metadata": {},
   "source": [
    "#### Detection and conversion of lost data / Kayıp verilerin tespiti ve dönüşümü"
   ]
  },
  {
   "cell_type": "code",
   "execution_count": 14,
   "id": "8e2fd697",
   "metadata": {},
   "outputs": [
    {
     "name": "stdout",
     "output_type": "stream",
     "text": [
      "0      Yes\n",
      "1       No\n",
      "2       No\n",
      "3      Yes\n",
      "4      Yes\n",
      "      ... \n",
      "344    Yes\n",
      "345    Yes\n",
      "346    Yes\n",
      "347    Yes\n",
      "348    Yes\n",
      "Name: Fever, Length: 349, dtype: object\n",
      "0      False\n",
      "1      False\n",
      "2      False\n",
      "3      False\n",
      "4      False\n",
      "       ...  \n",
      "344    False\n",
      "345    False\n",
      "346    False\n",
      "347    False\n",
      "348    False\n",
      "Name: Fever, Length: 349, dtype: bool\n"
     ]
    }
   ],
   "source": [
    "print(df[\"Fever\"])\n",
    "print(df[\"Fever\"].isnull())"
   ]
  },
  {
   "cell_type": "code",
   "execution_count": 15,
   "id": "b892b426",
   "metadata": {},
   "outputs": [
    {
     "name": "stdout",
     "output_type": "stream",
     "text": [
      "     Disease  Fever  Cough  Fatigue  Difficulty Breathing    Age  Gender  \\\n",
      "0      False  False  False    False                 False  False   False   \n",
      "1      False  False  False    False                 False  False   False   \n",
      "2      False  False  False    False                 False  False   False   \n",
      "3      False  False  False    False                 False  False   False   \n",
      "4      False  False  False    False                 False  False   False   \n",
      "..       ...    ...    ...      ...                   ...    ...     ...   \n",
      "344    False  False  False    False                 False  False   False   \n",
      "345    False  False  False    False                 False  False   False   \n",
      "346    False  False  False    False                 False  False   False   \n",
      "347    False  False  False    False                 False  False   False   \n",
      "348    False  False  False    False                 False  False   False   \n",
      "\n",
      "     Blood Pressure  Cholesterol Level  Outcome Variable  \n",
      "0             False              False             False  \n",
      "1             False              False             False  \n",
      "2             False              False             False  \n",
      "3             False              False             False  \n",
      "4             False              False             False  \n",
      "..              ...                ...               ...  \n",
      "344           False              False             False  \n",
      "345           False              False             False  \n",
      "346           False              False             False  \n",
      "347           False              False             False  \n",
      "348           False              False             False  \n",
      "\n",
      "[349 rows x 10 columns]\n"
     ]
    }
   ],
   "source": [
    "print(df.isnull())\n",
    "#  we don’t have null or missing values in our dataset."
   ]
  },
  {
   "cell_type": "markdown",
   "id": "6bd057de",
   "metadata": {},
   "source": [
    "#### Transformation of data types    /     Veri tiplerinin dönüşümü"
   ]
  },
  {
   "cell_type": "code",
   "execution_count": 16,
   "id": "5228a389",
   "metadata": {},
   "outputs": [
    {
     "name": "stdout",
     "output_type": "stream",
     "text": [
      "Disease                 object\n",
      "Fever                   object\n",
      "Cough                   object\n",
      "Fatigue                 object\n",
      "Difficulty Breathing    object\n",
      "Age                      int64\n",
      "Gender                  object\n",
      "Blood Pressure          object\n",
      "Cholesterol Level       object\n",
      "Outcome Variable        object\n",
      "dtype: object\n"
     ]
    }
   ],
   "source": [
    "print(df.dtypes)"
   ]
  },
  {
   "cell_type": "code",
   "execution_count": 17,
   "id": "ca51bb4f",
   "metadata": {},
   "outputs": [],
   "source": [
    "df['Age'] = df['Age'].astype(int)\n",
    "# just for example"
   ]
  },
  {
   "cell_type": "markdown",
   "id": "9b5673e6",
   "metadata": {},
   "source": [
    "#### Removal of repetitive data  / Tekrarlayan verilerin kaldırılması"
   ]
  },
  {
   "cell_type": "code",
   "execution_count": 18,
   "id": "07a839e9",
   "metadata": {},
   "outputs": [
    {
     "data": {
      "text/plain": [
       "49"
      ]
     },
     "execution_count": 18,
     "metadata": {},
     "output_type": "execute_result"
    }
   ],
   "source": [
    "df.duplicated().sum()\n"
   ]
  },
  {
   "cell_type": "code",
   "execution_count": 19,
   "id": "ab3d595a",
   "metadata": {},
   "outputs": [],
   "source": [
    "## to remove duplicate rows based on all columns. \n",
    "## The keep='first' argument specifies to keep the first occurrence of the duplicated values and remove the subsequent ones.\n",
    "df = df.drop_duplicates(keep='first')\n"
   ]
  },
  {
   "cell_type": "code",
   "execution_count": 20,
   "id": "5aa49038",
   "metadata": {},
   "outputs": [
    {
     "data": {
      "text/plain": [
       "0"
      ]
     },
     "execution_count": 20,
     "metadata": {},
     "output_type": "execute_result"
    }
   ],
   "source": [
    "df.duplicated().sum()"
   ]
  },
  {
   "cell_type": "markdown",
   "id": "78af460d",
   "metadata": {},
   "source": [
    "####  Transformation of categorical data / Kategorik verilerin dönüşümü"
   ]
  },
  {
   "cell_type": "code",
   "execution_count": 21,
   "id": "5ef272e7",
   "metadata": {},
   "outputs": [],
   "source": [
    "# using the scikit-learn library's LabelEncoder to encode categorical variables in our DataFrame into numerical values.\n",
    "# The LabelEncoder is a utility class in scikit-learn that helps convert categorical text data into numerical labels.\n",
    "\n",
    "\n",
    "\n",
    "import pandas as pd\n",
    "import numpy as np\n",
    "import matplotlib.pyplot as plt\n",
    "from sklearn.preprocessing import LabelEncoder\n",
    "LE = LabelEncoder()\n",
    "df[\"Fever\"] = LE.fit_transform(df[\"Fever\"])\n",
    "df[\"Cough\"] = LE.fit_transform(df[\"Cough\"])\n",
    "df[\"Fatigue\"] = LE.fit_transform(df[\"Fatigue\"])\n",
    "df[\"Difficulty Breathing\"] = LE.fit_transform(df[\"Difficulty Breathing\"])\n",
    "df[\"Gender\"] = LE.fit_transform(df[\"Gender\"])\n",
    "df[\"Blood Pressure\"] = LE.fit_transform(df[\"Blood Pressure\"])\n",
    "df[\"Cholesterol Level\"] = LE.fit_transform(df[\"Cholesterol Level\"])\n",
    "df[\"Outcome Variable\"] = LE.fit_transform(df[\"Outcome Variable\"])"
   ]
  },
  {
   "cell_type": "code",
   "execution_count": 22,
   "id": "27ca5535",
   "metadata": {},
   "outputs": [
    {
     "data": {
      "text/html": [
       "<div>\n",
       "<style scoped>\n",
       "    .dataframe tbody tr th:only-of-type {\n",
       "        vertical-align: middle;\n",
       "    }\n",
       "\n",
       "    .dataframe tbody tr th {\n",
       "        vertical-align: top;\n",
       "    }\n",
       "\n",
       "    .dataframe thead th {\n",
       "        text-align: right;\n",
       "    }\n",
       "</style>\n",
       "<table border=\"1\" class=\"dataframe\">\n",
       "  <thead>\n",
       "    <tr style=\"text-align: right;\">\n",
       "      <th></th>\n",
       "      <th>Disease</th>\n",
       "      <th>Fever</th>\n",
       "      <th>Cough</th>\n",
       "      <th>Fatigue</th>\n",
       "      <th>Difficulty Breathing</th>\n",
       "      <th>Age</th>\n",
       "      <th>Gender</th>\n",
       "      <th>Blood Pressure</th>\n",
       "      <th>Cholesterol Level</th>\n",
       "      <th>Outcome Variable</th>\n",
       "    </tr>\n",
       "  </thead>\n",
       "  <tbody>\n",
       "    <tr>\n",
       "      <th>0</th>\n",
       "      <td>Influenza</td>\n",
       "      <td>1</td>\n",
       "      <td>0</td>\n",
       "      <td>1</td>\n",
       "      <td>1</td>\n",
       "      <td>19</td>\n",
       "      <td>0</td>\n",
       "      <td>1</td>\n",
       "      <td>2</td>\n",
       "      <td>1</td>\n",
       "    </tr>\n",
       "    <tr>\n",
       "      <th>1</th>\n",
       "      <td>Common Cold</td>\n",
       "      <td>0</td>\n",
       "      <td>1</td>\n",
       "      <td>1</td>\n",
       "      <td>0</td>\n",
       "      <td>25</td>\n",
       "      <td>0</td>\n",
       "      <td>2</td>\n",
       "      <td>2</td>\n",
       "      <td>0</td>\n",
       "    </tr>\n",
       "    <tr>\n",
       "      <th>2</th>\n",
       "      <td>Eczema</td>\n",
       "      <td>0</td>\n",
       "      <td>1</td>\n",
       "      <td>1</td>\n",
       "      <td>0</td>\n",
       "      <td>25</td>\n",
       "      <td>0</td>\n",
       "      <td>2</td>\n",
       "      <td>2</td>\n",
       "      <td>0</td>\n",
       "    </tr>\n",
       "    <tr>\n",
       "      <th>3</th>\n",
       "      <td>Asthma</td>\n",
       "      <td>1</td>\n",
       "      <td>1</td>\n",
       "      <td>0</td>\n",
       "      <td>1</td>\n",
       "      <td>25</td>\n",
       "      <td>1</td>\n",
       "      <td>2</td>\n",
       "      <td>2</td>\n",
       "      <td>1</td>\n",
       "    </tr>\n",
       "    <tr>\n",
       "      <th>5</th>\n",
       "      <td>Eczema</td>\n",
       "      <td>1</td>\n",
       "      <td>0</td>\n",
       "      <td>0</td>\n",
       "      <td>0</td>\n",
       "      <td>25</td>\n",
       "      <td>0</td>\n",
       "      <td>2</td>\n",
       "      <td>2</td>\n",
       "      <td>1</td>\n",
       "    </tr>\n",
       "  </tbody>\n",
       "</table>\n",
       "</div>"
      ],
      "text/plain": [
       "       Disease  Fever  Cough  Fatigue  Difficulty Breathing  Age  Gender  \\\n",
       "0    Influenza      1      0        1                     1   19       0   \n",
       "1  Common Cold      0      1        1                     0   25       0   \n",
       "2       Eczema      0      1        1                     0   25       0   \n",
       "3       Asthma      1      1        0                     1   25       1   \n",
       "5       Eczema      1      0        0                     0   25       0   \n",
       "\n",
       "   Blood Pressure  Cholesterol Level  Outcome Variable  \n",
       "0               1                  2                 1  \n",
       "1               2                  2                 0  \n",
       "2               2                  2                 0  \n",
       "3               2                  2                 1  \n",
       "5               2                  2                 1  "
      ]
     },
     "execution_count": 22,
     "metadata": {},
     "output_type": "execute_result"
    }
   ],
   "source": [
    "df.head()"
   ]
  },
  {
   "cell_type": "code",
   "execution_count": 23,
   "id": "ab7db20d",
   "metadata": {},
   "outputs": [
    {
     "name": "stdout",
     "output_type": "stream",
     "text": [
      "<class 'pandas.core.frame.DataFrame'>\n",
      "Index: 300 entries, 0 to 347\n",
      "Data columns (total 10 columns):\n",
      " #   Column                Non-Null Count  Dtype \n",
      "---  ------                --------------  ----- \n",
      " 0   Disease               300 non-null    object\n",
      " 1   Fever                 300 non-null    int32 \n",
      " 2   Cough                 300 non-null    int32 \n",
      " 3   Fatigue               300 non-null    int32 \n",
      " 4   Difficulty Breathing  300 non-null    int32 \n",
      " 5   Age                   300 non-null    int32 \n",
      " 6   Gender                300 non-null    int32 \n",
      " 7   Blood Pressure        300 non-null    int32 \n",
      " 8   Cholesterol Level     300 non-null    int32 \n",
      " 9   Outcome Variable      300 non-null    int32 \n",
      "dtypes: int32(9), object(1)\n",
      "memory usage: 15.2+ KB\n"
     ]
    }
   ],
   "source": [
    "df.info()"
   ]
  },
  {
   "cell_type": "code",
   "execution_count": 24,
   "id": "3dddd682",
   "metadata": {},
   "outputs": [
    {
     "data": {
      "text/plain": [
       "Disease\n",
       "Asthma                            16\n",
       "Osteoporosis                      12\n",
       "Stroke                            11\n",
       "Hypertension                      10\n",
       "Migraine                          10\n",
       "                                  ..\n",
       "Fibromyalgia                       1\n",
       "Eating Disorders (Anorexia,...     1\n",
       "Chickenpox                         1\n",
       "Rabies                             1\n",
       "Williams Syndrome                  1\n",
       "Name: count, Length: 116, dtype: int64"
      ]
     },
     "execution_count": 24,
     "metadata": {},
     "output_type": "execute_result"
    }
   ],
   "source": [
    "# Here, we are creating a new Series called category_counts using the value_counts() function.\n",
    "# This Series will contain the counts of unique values in the \"Disease\" column of (df). \n",
    "# Each unique disease in the \"Disease\" column becomes an index,\n",
    "# and the corresponding value is the count of occurrences of that disease in the df .\n",
    "\n",
    "category_counts = df[\"Disease\"].value_counts()\n",
    "\n",
    "# you are creating a new column indf called \"Disease_freq\".\n",
    "# The values in this new column are obtained by mapping each disease in the \"Disease\" column to its corresponding count in the category_counts Series. \n",
    "# This is done using the map function. So, for each row in df,the \"Disease_freq\" column will contain the count of occurrences of the disease specified in the \"Disease\" column.\n",
    "\n",
    "df[\"Disease_freq\"] = df[\"Disease\"].map(category_counts)\n",
    "\n",
    "# we'll see the count of occurrences for each unique disease in our dataset.\n",
    "category_counts"
   ]
  },
  {
   "cell_type": "code",
   "execution_count": 25,
   "id": "34333372",
   "metadata": {},
   "outputs": [
    {
     "data": {
      "text/html": [
       "<div>\n",
       "<style scoped>\n",
       "    .dataframe tbody tr th:only-of-type {\n",
       "        vertical-align: middle;\n",
       "    }\n",
       "\n",
       "    .dataframe tbody tr th {\n",
       "        vertical-align: top;\n",
       "    }\n",
       "\n",
       "    .dataframe thead th {\n",
       "        text-align: right;\n",
       "    }\n",
       "</style>\n",
       "<table border=\"1\" class=\"dataframe\">\n",
       "  <thead>\n",
       "    <tr style=\"text-align: right;\">\n",
       "      <th></th>\n",
       "      <th>Fever</th>\n",
       "      <th>Cough</th>\n",
       "      <th>Fatigue</th>\n",
       "      <th>Difficulty Breathing</th>\n",
       "      <th>Age</th>\n",
       "      <th>Gender</th>\n",
       "      <th>Blood Pressure</th>\n",
       "      <th>Cholesterol Level</th>\n",
       "      <th>Outcome Variable</th>\n",
       "      <th>Disease_freq</th>\n",
       "    </tr>\n",
       "  </thead>\n",
       "  <tbody>\n",
       "    <tr>\n",
       "      <th>0</th>\n",
       "      <td>1</td>\n",
       "      <td>0</td>\n",
       "      <td>1</td>\n",
       "      <td>1</td>\n",
       "      <td>19</td>\n",
       "      <td>0</td>\n",
       "      <td>1</td>\n",
       "      <td>2</td>\n",
       "      <td>1</td>\n",
       "      <td>7</td>\n",
       "    </tr>\n",
       "    <tr>\n",
       "      <th>1</th>\n",
       "      <td>0</td>\n",
       "      <td>1</td>\n",
       "      <td>1</td>\n",
       "      <td>0</td>\n",
       "      <td>25</td>\n",
       "      <td>0</td>\n",
       "      <td>2</td>\n",
       "      <td>2</td>\n",
       "      <td>0</td>\n",
       "      <td>6</td>\n",
       "    </tr>\n",
       "    <tr>\n",
       "      <th>2</th>\n",
       "      <td>0</td>\n",
       "      <td>1</td>\n",
       "      <td>1</td>\n",
       "      <td>0</td>\n",
       "      <td>25</td>\n",
       "      <td>0</td>\n",
       "      <td>2</td>\n",
       "      <td>2</td>\n",
       "      <td>0</td>\n",
       "      <td>6</td>\n",
       "    </tr>\n",
       "    <tr>\n",
       "      <th>3</th>\n",
       "      <td>1</td>\n",
       "      <td>1</td>\n",
       "      <td>0</td>\n",
       "      <td>1</td>\n",
       "      <td>25</td>\n",
       "      <td>1</td>\n",
       "      <td>2</td>\n",
       "      <td>2</td>\n",
       "      <td>1</td>\n",
       "      <td>16</td>\n",
       "    </tr>\n",
       "    <tr>\n",
       "      <th>5</th>\n",
       "      <td>1</td>\n",
       "      <td>0</td>\n",
       "      <td>0</td>\n",
       "      <td>0</td>\n",
       "      <td>25</td>\n",
       "      <td>0</td>\n",
       "      <td>2</td>\n",
       "      <td>2</td>\n",
       "      <td>1</td>\n",
       "      <td>6</td>\n",
       "    </tr>\n",
       "  </tbody>\n",
       "</table>\n",
       "</div>"
      ],
      "text/plain": [
       "   Fever  Cough  Fatigue  Difficulty Breathing  Age  Gender  Blood Pressure  \\\n",
       "0      1      0        1                     1   19       0               1   \n",
       "1      0      1        1                     0   25       0               2   \n",
       "2      0      1        1                     0   25       0               2   \n",
       "3      1      1        0                     1   25       1               2   \n",
       "5      1      0        0                     0   25       0               2   \n",
       "\n",
       "   Cholesterol Level  Outcome Variable  Disease_freq  \n",
       "0                  2                 1             7  \n",
       "1                  2                 0             6  \n",
       "2                  2                 0             6  \n",
       "3                  2                 1            16  \n",
       "5                  2                 1             6  "
      ]
     },
     "execution_count": 25,
     "metadata": {},
     "output_type": "execute_result"
    }
   ],
   "source": [
    "# to remove the column named \"Disease\" from the df.\n",
    "\n",
    "df = df.drop(columns = \"Disease\", axis = 1)\n",
    "df.head()"
   ]
  },
  {
   "cell_type": "code",
   "execution_count": 26,
   "id": "28eb48eb",
   "metadata": {},
   "outputs": [
    {
     "name": "stdout",
     "output_type": "stream",
     "text": [
      "<class 'pandas.core.frame.DataFrame'>\n",
      "Index: 300 entries, 0 to 347\n",
      "Data columns (total 10 columns):\n",
      " #   Column                Non-Null Count  Dtype\n",
      "---  ------                --------------  -----\n",
      " 0   Fever                 300 non-null    int32\n",
      " 1   Cough                 300 non-null    int32\n",
      " 2   Fatigue               300 non-null    int32\n",
      " 3   Difficulty Breathing  300 non-null    int32\n",
      " 4   Age                   300 non-null    int32\n",
      " 5   Gender                300 non-null    int32\n",
      " 6   Blood Pressure        300 non-null    int32\n",
      " 7   Cholesterol Level     300 non-null    int32\n",
      " 8   Outcome Variable      300 non-null    int32\n",
      " 9   Disease_freq          300 non-null    int64\n",
      "dtypes: int32(9), int64(1)\n",
      "memory usage: 15.2 KB\n"
     ]
    }
   ],
   "source": [
    "df.info()"
   ]
  },
  {
   "cell_type": "markdown",
   "id": "ad4e6c69",
   "metadata": {},
   "source": [
    "#### Control of excessive data / Aşırı verilerin kontrolü"
   ]
  },
  {
   "cell_type": "code",
   "execution_count": 27,
   "id": "3507a4d6",
   "metadata": {},
   "outputs": [
    {
     "name": "stdout",
     "output_type": "stream",
     "text": [
      "0      19\n",
      "1      25\n",
      "2      25\n",
      "3      25\n",
      "5      25\n",
      "       ..\n",
      "341    70\n",
      "342    70\n",
      "343    80\n",
      "345    85\n",
      "347    90\n",
      "Name: Age, Length: 300, dtype: int32\n"
     ]
    }
   ],
   "source": [
    "print(df[\"Age\"])"
   ]
  },
  {
   "cell_type": "code",
   "execution_count": 28,
   "id": "31d1b281",
   "metadata": {},
   "outputs": [
    {
     "name": "stdout",
     "output_type": "stream",
     "text": [
      "0      2.127676\n",
      "1      1.650559\n",
      "2      1.650559\n",
      "3      1.650559\n",
      "5      1.650559\n",
      "         ...   \n",
      "341    1.927817\n",
      "342    1.927817\n",
      "343    2.723012\n",
      "345    3.120609\n",
      "347    3.518206\n",
      "Name: Age, Length: 300, dtype: float64\n"
     ]
    }
   ],
   "source": [
    "from scipy import stats\n",
    "z=np.abs(stats.zscore(df[\"Age\"]))\n",
    "print(z)"
   ]
  },
  {
   "cell_type": "code",
   "execution_count": 29,
   "id": "8aa959c2",
   "metadata": {},
   "outputs": [],
   "source": [
    "#df.drop([1])\n",
    "\n",
    "#df.loc[1,\"Age\"]=99\n",
    "#print(df)\n",
    "\n",
    "\n",
    "# I will not usee this code because I don't have any column to replace "
   ]
  },
  {
   "cell_type": "code",
   "execution_count": 30,
   "id": "4198c460",
   "metadata": {},
   "outputs": [
    {
     "name": "stdout",
     "output_type": "stream",
     "text": [
      "45.75666666666667\n",
      "45.0\n"
     ]
    }
   ],
   "source": [
    "print(df[\"Age\"].mean())\n",
    "print(np.median(df[\"Age\"]))"
   ]
  },
  {
   "cell_type": "code",
   "execution_count": 31,
   "id": "6e11457a",
   "metadata": {},
   "outputs": [
    {
     "name": "stdout",
     "output_type": "stream",
     "text": [
      "55.0\n"
     ]
    }
   ],
   "source": [
    "q_hi=df[\"Age\"].quantile(0.758)\n",
    "print(q_hi)"
   ]
  },
  {
   "cell_type": "code",
   "execution_count": 32,
   "id": "5d691dc0",
   "metadata": {},
   "outputs": [
    {
     "name": "stdout",
     "output_type": "stream",
     "text": [
      "     Fever  Cough  Fatigue  Difficulty Breathing  Age  Gender  Blood Pressure  \\\n",
      "272      1      1        1                     1   56       1               0   \n",
      "273      1      1        0                     1   57       1               2   \n",
      "274      0      0        1                     0   60       1               0   \n",
      "275      1      1        0                     0   60       1               0   \n",
      "277      0      0        1                     0   60       1               2   \n",
      "..     ...    ...      ...                   ...  ...     ...             ...   \n",
      "341      1      1        1                     0   70       0               0   \n",
      "342      0      0        1                     0   70       0               2   \n",
      "343      1      0        1                     0   80       0               0   \n",
      "345      1      0        1                     0   85       1               0   \n",
      "347      1      0        1                     0   90       0               0   \n",
      "\n",
      "     Cholesterol Level  Outcome Variable  Disease_freq  \n",
      "272                  0                 1             7  \n",
      "273                  0                 0             7  \n",
      "274                  0                 0             1  \n",
      "275                  0                 0             3  \n",
      "277                  2                 0             5  \n",
      "..                 ...               ...           ...  \n",
      "341                  0                 1             1  \n",
      "342                  2                 1             1  \n",
      "343                  0                 1            11  \n",
      "345                  0                 1            11  \n",
      "347                  0                 1            11  \n",
      "\n",
      "[62 rows x 10 columns]\n"
     ]
    }
   ],
   "source": [
    "print(df[df[\"Age\"]>q_hi])"
   ]
  },
  {
   "cell_type": "code",
   "execution_count": 33,
   "id": "2791ea5c",
   "metadata": {},
   "outputs": [
    {
     "name": "stdout",
     "output_type": "stream",
     "text": [
      "     Fever  Cough  Fatigue  Difficulty Breathing  Age  Gender  Blood Pressure  \\\n",
      "0        1      0        1                     1   19       0               1   \n",
      "1        0      1        1                     0   25       0               2   \n",
      "2        0      1        1                     0   25       0               2   \n",
      "3        1      1        0                     1   25       1               2   \n",
      "5        1      0        0                     0   25       0               2   \n",
      "..     ...    ...      ...                   ...  ...     ...             ...   \n",
      "341      1      1        1                     0   70       0               0   \n",
      "342      0      0        1                     0   70       0               2   \n",
      "343      1      0        1                     0   80       0               0   \n",
      "345      1      0        1                     0   85       1               0   \n",
      "347      1      0        1                     0   90       0               0   \n",
      "\n",
      "     Cholesterol Level  Outcome Variable  Disease_freq  \n",
      "0                    2                 1             7  \n",
      "1                    2                 0             6  \n",
      "2                    2                 0             6  \n",
      "3                    2                 1            16  \n",
      "5                    2                 1             6  \n",
      "..                 ...               ...           ...  \n",
      "341                  0                 1             1  \n",
      "342                  2                 1             1  \n",
      "343                  0                 1            11  \n",
      "345                  0                 1            11  \n",
      "347                  0                 1            11  \n",
      "\n",
      "[300 rows x 10 columns]\n"
     ]
    }
   ],
   "source": [
    "print(df)"
   ]
  },
  {
   "cell_type": "code",
   "execution_count": 34,
   "id": "b71093dc",
   "metadata": {},
   "outputs": [
    {
     "name": "stdout",
     "output_type": "stream",
     "text": [
      "     Fever  Cough  Fatigue  Difficulty Breathing  Age  Gender  Blood Pressure  \\\n",
      "0        1      0        1                     1   19       0               1   \n",
      "1        0      1        1                     0   25       0               2   \n",
      "2        0      1        1                     0   25       0               2   \n",
      "3        1      1        0                     1   25       1               2   \n",
      "4        1      0        0                     0   25       0               2   \n",
      "..     ...    ...      ...                   ...  ...     ...             ...   \n",
      "295      1      1        1                     0   70       0               0   \n",
      "296      0      0        1                     0   70       0               2   \n",
      "297      1      0        1                     0   80       0               0   \n",
      "298      1      0        1                     0   85       1               0   \n",
      "299      1      0        1                     0   90       0               0   \n",
      "\n",
      "     Cholesterol Level  Outcome Variable  Disease_freq  \n",
      "0                    2                 1             7  \n",
      "1                    2                 0             6  \n",
      "2                    2                 0             6  \n",
      "3                    2                 1            16  \n",
      "4                    2                 1             6  \n",
      "..                 ...               ...           ...  \n",
      "295                  0                 1             1  \n",
      "296                  2                 1             1  \n",
      "297                  0                 1            11  \n",
      "298                  0                 1            11  \n",
      "299                  0                 1            11  \n",
      "\n",
      "[300 rows x 10 columns]\n"
     ]
    }
   ],
   "source": [
    "## df will have a new default integer index, and the old index will be discarded.\n",
    "df.reset_index(inplace=True,drop=True)\n",
    "print(df)"
   ]
  },
  {
   "cell_type": "markdown",
   "id": "23ed3182",
   "metadata": {},
   "source": [
    "#### Normalization (min-max) / Normalizasyon (min-max)"
   ]
  },
  {
   "cell_type": "code",
   "execution_count": 35,
   "id": "0a5c2bb1",
   "metadata": {},
   "outputs": [
    {
     "name": "stdout",
     "output_type": "stream",
     "text": [
      "        Fever     Cough   Fatigue  Difficulty Breathing       Age    Gender  \\\n",
      "0    0.011111  0.000000  0.011111              0.011111  0.211111  0.000000   \n",
      "1    0.000000  0.011111  0.011111              0.000000  0.277778  0.000000   \n",
      "2    0.000000  0.011111  0.011111              0.000000  0.277778  0.000000   \n",
      "3    0.011111  0.011111  0.000000              0.011111  0.277778  0.011111   \n",
      "4    0.011111  0.000000  0.000000              0.000000  0.277778  0.000000   \n",
      "..        ...       ...       ...                   ...       ...       ...   \n",
      "295  0.011111  0.011111  0.011111              0.000000  0.777778  0.000000   \n",
      "296  0.000000  0.000000  0.011111              0.000000  0.777778  0.000000   \n",
      "297  0.011111  0.000000  0.011111              0.000000  0.888889  0.000000   \n",
      "298  0.011111  0.000000  0.011111              0.000000  0.944444  0.011111   \n",
      "299  0.011111  0.000000  0.011111              0.000000  1.000000  0.000000   \n",
      "\n",
      "     Blood Pressure  Cholesterol Level  Outcome Variable  Disease_freq  \n",
      "0          0.011111           0.022222          0.011111      0.077778  \n",
      "1          0.022222           0.022222          0.000000      0.066667  \n",
      "2          0.022222           0.022222          0.000000      0.066667  \n",
      "3          0.022222           0.022222          0.011111      0.177778  \n",
      "4          0.022222           0.022222          0.011111      0.066667  \n",
      "..              ...                ...               ...           ...  \n",
      "295        0.000000           0.000000          0.011111      0.011111  \n",
      "296        0.022222           0.022222          0.011111      0.011111  \n",
      "297        0.000000           0.000000          0.011111      0.122222  \n",
      "298        0.000000           0.000000          0.011111      0.122222  \n",
      "299        0.000000           0.000000          0.011111      0.122222  \n",
      "\n",
      "[300 rows x 10 columns]\n"
     ]
    }
   ],
   "source": [
    "dfScaler=df.loc[:,\"Fever\":\"Disease_freq\"]\n",
    "x=(dfScaler-np.min(dfScaler))/(np.max(dfScaler)-np.min(dfScaler))\n",
    "print(x)"
   ]
  },
  {
   "cell_type": "markdown",
   "id": "c20e000c",
   "metadata": {},
   "source": [
    "#### Feature engineering  / Özellik mühendisliği"
   ]
  },
  {
   "cell_type": "code",
   "execution_count": 36,
   "id": "b86b62f5",
   "metadata": {},
   "outputs": [
    {
     "name": "stdout",
     "output_type": "stream",
     "text": [
      "     Fever  Outcome Variable  Age  Cough  Fatigue  Cholesterol Level  \\\n",
      "0        1                 1   19      0        1                  2   \n",
      "1        0                 0   25      1        1                  2   \n",
      "2        0                 0   25      1        1                  2   \n",
      "3        1                 1   25      1        0                  2   \n",
      "4        1                 1   25      0        0                  2   \n",
      "..     ...               ...  ...    ...      ...                ...   \n",
      "295      1                 1   70      1        1                  0   \n",
      "296      0                 1   70      0        1                  2   \n",
      "297      1                 1   80      0        1                  0   \n",
      "298      1                 1   85      0        1                  0   \n",
      "299      1                 1   90      0        1                  0   \n",
      "\n",
      "     Blood Pressure  Gender  Difficulty Breathing     Fever     Cough  \\\n",
      "0                 1       0                     1  0.011111  0.000000   \n",
      "1                 2       0                     0  0.000000  0.011111   \n",
      "2                 2       0                     0  0.000000  0.011111   \n",
      "3                 2       1                     1  0.011111  0.011111   \n",
      "4                 2       0                     0  0.011111  0.000000   \n",
      "..              ...     ...                   ...       ...       ...   \n",
      "295               0       0                     0  0.011111  0.011111   \n",
      "296               2       0                     0  0.000000  0.000000   \n",
      "297               0       0                     0  0.011111  0.000000   \n",
      "298               0       1                     0  0.011111  0.000000   \n",
      "299               0       0                     0  0.011111  0.000000   \n",
      "\n",
      "      Fatigue  Difficulty Breathing       Age    Gender  Blood Pressure  \\\n",
      "0    0.011111              0.011111  0.211111  0.000000        0.011111   \n",
      "1    0.011111              0.000000  0.277778  0.000000        0.022222   \n",
      "2    0.011111              0.000000  0.277778  0.000000        0.022222   \n",
      "3    0.000000              0.011111  0.277778  0.011111        0.022222   \n",
      "4    0.000000              0.000000  0.277778  0.000000        0.022222   \n",
      "..        ...                   ...       ...       ...             ...   \n",
      "295  0.011111              0.000000  0.777778  0.000000        0.000000   \n",
      "296  0.011111              0.000000  0.777778  0.000000        0.022222   \n",
      "297  0.011111              0.000000  0.888889  0.000000        0.000000   \n",
      "298  0.011111              0.000000  0.944444  0.011111        0.000000   \n",
      "299  0.011111              0.000000  1.000000  0.000000        0.000000   \n",
      "\n",
      "     Cholesterol Level  Outcome Variable  Disease_freq  \n",
      "0             0.022222          0.011111      0.077778  \n",
      "1             0.022222          0.000000      0.066667  \n",
      "2             0.022222          0.000000      0.066667  \n",
      "3             0.022222          0.011111      0.177778  \n",
      "4             0.022222          0.011111      0.066667  \n",
      "..                 ...               ...           ...  \n",
      "295           0.000000          0.011111      0.011111  \n",
      "296           0.022222          0.011111      0.011111  \n",
      "297           0.000000          0.011111      0.122222  \n",
      "298           0.000000          0.011111      0.122222  \n",
      "299           0.000000          0.011111      0.122222  \n",
      "\n",
      "[300 rows x 19 columns]\n"
     ]
    }
   ],
   "source": [
    "dfNew=pd.concat([df.loc[:,[\"Fever\",\"Outcome Variable\",\"Age\",\"Cough\",\"Fatigue\",\"Cholesterol Level\",\"Blood Pressure\",\"Gender\",\"Difficulty Breathing\"]],x],axis=1)\n",
    "print(dfNew)"
   ]
  },
  {
   "cell_type": "code",
   "execution_count": 37,
   "id": "0911f150",
   "metadata": {},
   "outputs": [],
   "source": [
    "dfNew.to_csv(\"5_sampleLast.csv\",sep=\";\")"
   ]
  },
  {
   "cell_type": "markdown",
   "id": "16f9fbec",
   "metadata": {},
   "source": [
    "## Simple linear regression"
   ]
  },
  {
   "cell_type": "code",
   "execution_count": 38,
   "id": "718d5267",
   "metadata": {},
   "outputs": [],
   "source": [
    "\n",
    "\n",
    "import pandas as pd\n",
    "import numpy as np\n",
    "import matplotlib.pyplot as plt\n",
    "from sklearn.linear_model import LinearRegression\n",
    "from sklearn.tree import DecisionTreeRegressor\n",
    "from sklearn.ensemble import RandomForestRegressor\n",
    "from sklearn.preprocessing import PolynomialFeatures\n",
    "from sklearn.metrics import r2_score,mean_absolute_error,mean_squared_error"
   ]
  },
  {
   "cell_type": "code",
   "execution_count": 39,
   "id": "1bd13ee6",
   "metadata": {},
   "outputs": [
    {
     "name": "stderr",
     "output_type": "stream",
     "text": [
      "C:\\Users\\asusgaming\\anaconda3\\Lib\\site-packages\\seaborn\\axisgrid.py:118: UserWarning: The figure layout has changed to tight\n",
      "  self._figure.tight_layout(*args, **kwargs)\n"
     ]
    },
    {
     "data": {
      "text/plain": [
       "<seaborn.axisgrid.FacetGrid at 0x27f2fa2ff10>"
      ]
     },
     "execution_count": 39,
     "metadata": {},
     "output_type": "execute_result"
    },
    {
     "data": {
      "image/png": "[encoded data removed]",
      "text/plain": [
       "<Figure size 500x500 with 1 Axes>"
      ]
     },
     "metadata": {},
     "output_type": "display_data"
    }
   ],
   "source": [
    "\n",
    "import matplotlib.pyplot as plt\n",
    "import pandas as pd\n",
    "import numpy as np\n",
    "import seaborn as sns\n",
    "import matplotlib.pyplot as plt\n",
    "## In Seaborn's catplot with kind='swarm', it is a way to generate a swarm plot for categorical data.\n",
    "## The points are adjusted along the categorical axis, providing a clear view of the distribution while preventing overlap.\n",
    "sns.catplot(x = 'Outcome Variable' , y = 'Age' , data = df , kind = \"swarm\") "
   ]
  },
  {
   "cell_type": "code",
   "execution_count": 40,
   "id": "37ff072e",
   "metadata": {},
   "outputs": [],
   "source": [
    "lr=LinearRegression()"
   ]
  },
  {
   "cell_type": "markdown",
   "id": "4eb258a8",
   "metadata": {},
   "source": [
    "### Multiple linear regresyon"
   ]
  },
  {
   "cell_type": "code",
   "execution_count": 41,
   "id": "e08f73f5",
   "metadata": {},
   "outputs": [],
   "source": [
    "import pandas as pd\n",
    "import numpy as np\n",
    "import matplotlib.pyplot as plt\n",
    "from sklearn.linear_model import LinearRegression"
   ]
  },
  {
   "cell_type": "code",
   "execution_count": 42,
   "id": "8614fbb5",
   "metadata": {},
   "outputs": [],
   "source": [
    "x=df.iloc[:,:8]\n",
    "y=df.iloc[:,:-1]"
   ]
  },
  {
   "cell_type": "code",
   "execution_count": 43,
   "id": "edb739d3",
   "metadata": {},
   "outputs": [
    {
     "data": {
      "text/html": [
       "<style>#sk-container-id-1 {color: black;}#sk-container-id-1 pre{padding: 0;}#sk-container-id-1 div.sk-toggleable {background-color: white;}#sk-container-id-1 label.sk-toggleable__label {cursor: pointer;display: block;width: 100%;margin-bottom: 0;padding: 0.3em;box-sizing: border-box;text-align: center;}#sk-container-id-1 label.sk-toggleable__label-arrow:before {content: \"▸\";float: left;margin-right: 0.25em;color: #696969;}#sk-container-id-1 label.sk-toggleable__label-arrow:hover:before {color: black;}#sk-container-id-1 div.sk-estimator:hover label.sk-toggleable__label-arrow:before {color: black;}#sk-container-id-1 div.sk-toggleable__content {max-height: 0;max-width: 0;overflow: hidden;text-align: left;background-color: #f0f8ff;}#sk-container-id-1 div.sk-toggleable__content pre {margin: 0.2em;color: black;border-radius: 0.25em;background-color: #f0f8ff;}#sk-container-id-1 input.sk-toggleable__control:checked~div.sk-toggleable__content {max-height: 200px;max-width: 100%;overflow: auto;}#sk-container-id-1 input.sk-toggleable__control:checked~label.sk-toggleable__label-arrow:before {content: \"▾\";}#sk-container-id-1 div.sk-estimator input.sk-toggleable__control:checked~label.sk-toggleable__label {background-color: #d4ebff;}#sk-container-id-1 div.sk-label input.sk-toggleable__control:checked~label.sk-toggleable__label {background-color: #d4ebff;}#sk-container-id-1 input.sk-hidden--visually {border: 0;clip: rect(1px 1px 1px 1px);clip: rect(1px, 1px, 1px, 1px);height: 1px;margin: -1px;overflow: hidden;padding: 0;position: absolute;width: 1px;}#sk-container-id-1 div.sk-estimator {font-family: monospace;background-color: #f0f8ff;border: 1px dotted black;border-radius: 0.25em;box-sizing: border-box;margin-bottom: 0.5em;}#sk-container-id-1 div.sk-estimator:hover {background-color: #d4ebff;}#sk-container-id-1 div.sk-parallel-item::after {content: \"\";width: 100%;border-bottom: 1px solid gray;flex-grow: 1;}#sk-container-id-1 div.sk-label:hover label.sk-toggleable__label {background-color: #d4ebff;}#sk-container-id-1 div.sk-serial::before {content: \"\";position: absolute;border-left: 1px solid gray;box-sizing: border-box;top: 0;bottom: 0;left: 50%;z-index: 0;}#sk-container-id-1 div.sk-serial {display: flex;flex-direction: column;align-items: center;background-color: white;padding-right: 0.2em;padding-left: 0.2em;position: relative;}#sk-container-id-1 div.sk-item {position: relative;z-index: 1;}#sk-container-id-1 div.sk-parallel {display: flex;align-items: stretch;justify-content: center;background-color: white;position: relative;}#sk-container-id-1 div.sk-item::before, #sk-container-id-1 div.sk-parallel-item::before {content: \"\";position: absolute;border-left: 1px solid gray;box-sizing: border-box;top: 0;bottom: 0;left: 50%;z-index: -1;}#sk-container-id-1 div.sk-parallel-item {display: flex;flex-direction: column;z-index: 1;position: relative;background-color: white;}#sk-container-id-1 div.sk-parallel-item:first-child::after {align-self: flex-end;width: 50%;}#sk-container-id-1 div.sk-parallel-item:last-child::after {align-self: flex-start;width: 50%;}#sk-container-id-1 div.sk-parallel-item:only-child::after {width: 0;}#sk-container-id-1 div.sk-dashed-wrapped {border: 1px dashed gray;margin: 0 0.4em 0.5em 0.4em;box-sizing: border-box;padding-bottom: 0.4em;background-color: white;}#sk-container-id-1 div.sk-label label {font-family: monospace;font-weight: bold;display: inline-block;line-height: 1.2em;}#sk-container-id-1 div.sk-label-container {text-align: center;}#sk-container-id-1 div.sk-container {/* jupyter's `normalize.less` sets `[hidden] { display: none; }` but bootstrap.min.css set `[hidden] { display: none !important; }` so we also need the `!important` here to be able to override the default hidden behavior on the sphinx rendered scikit-learn.org. See: https://github.com/scikit-learn/scikit-learn/issues/21755 */display: inline-block !important;position: relative;}#sk-container-id-1 div.sk-text-repr-fallback {display: none;}</style><div id=\"sk-container-id-1\" class=\"sk-top-container\"><div class=\"sk-text-repr-fallback\"><pre>LinearRegression()</pre><b>In a Jupyter environment, please rerun this cell to show the HTML representation or trust the notebook. <br />On GitHub, the HTML representation is unable to render, please try loading this page with nbviewer.org.</b></div><div class=\"sk-container\" hidden><div class=\"sk-item\"><div class=\"sk-estimator sk-toggleable\"><input class=\"sk-toggleable__control sk-hidden--visually\" id=\"sk-estimator-id-1\" type=\"checkbox\" checked><label for=\"sk-estimator-id-1\" class=\"sk-toggleable__label sk-toggleable__label-arrow\">LinearRegression</label><div class=\"sk-toggleable__content\"><pre>LinearRegression()</pre></div></div></div></div></div>"
      ],
      "text/plain": [
       "LinearRegression()"
      ]
     },
     "execution_count": 43,
     "metadata": {},
     "output_type": "execute_result"
    }
   ],
   "source": [
    "mlr=LinearRegression()\n",
    "mlr.fit(x,y)"
   ]
  },
  {
   "cell_type": "code",
   "execution_count": 44,
   "id": "f5ae0ad4",
   "metadata": {},
   "outputs": [
    {
     "name": "stdout",
     "output_type": "stream",
     "text": [
      "[-1.05471187e-15  1.11022302e-15 -4.77395901e-15  7.21644966e-16\n",
      "  2.13162821e-14 -6.66133815e-16  2.39808173e-14  1.66533454e-14\n",
      "  5.93317045e-01] [[ 1.00000000e+00  2.52911378e-16  2.15333824e-16 -2.98797116e-16\n",
      "   1.88916014e-17  1.87611423e-16 -2.39662095e-17 -1.04383439e-16]\n",
      " [ 1.14500468e-16  1.00000000e+00  6.40245864e-18 -6.44331645e-16\n",
      "  -1.55686830e-17 -7.85851993e-17  2.30240250e-16 -3.56762798e-16]\n",
      " [ 3.95993965e-16  2.54851248e-16  1.00000000e+00 -4.24489093e-16\n",
      "   9.94801588e-17 -4.98469193e-16  5.36091618e-16 -3.11651398e-16]\n",
      " [-1.47663365e-16 -9.92126845e-16 -1.06848928e-16  1.00000000e+00\n",
      "   8.56460223e-18 -4.22565384e-16 -1.68984164e-16 -1.60043509e-16]\n",
      " [-1.37780093e-15  2.96975397e-15  1.89795065e-16  2.20854308e-15\n",
      "   1.00000000e+00  4.20910564e-16 -1.96351151e-15  8.74710347e-16]\n",
      " [-1.36374908e-16  5.64775864e-17 -2.94399925e-16 -2.09210274e-16\n",
      "   1.70191921e-17  1.00000000e+00  6.67715206e-17 -1.75908356e-16]\n",
      " [ 2.36369504e-16  2.20681163e-16 -6.84185442e-16 -9.36354560e-17\n",
      "  -5.15483072e-16 -4.68026860e-18  1.00000000e+00 -1.25096770e-16]\n",
      " [-1.67374724e-16  4.61629197e-17  1.29742316e-16 -3.93758273e-16\n",
      "  -3.59130935e-16 -1.20269263e-16 -1.47162251e-16  1.00000000e+00]\n",
      " [ 2.00606342e-01 -5.12283531e-02  1.89826007e-01  7.47050689e-02\n",
      "  -9.26364512e-06 -2.36311110e-01 -4.43649807e-02 -1.37838599e-01]]\n"
     ]
    }
   ],
   "source": [
    "print(mlr.intercept_,mlr.coef_)"
   ]
  },
  {
   "cell_type": "markdown",
   "id": "7a4a274a",
   "metadata": {},
   "source": [
    "## Polynominal linear regression"
   ]
  },
  {
   "cell_type": "code",
   "execution_count": 45,
   "id": "f9436726",
   "metadata": {},
   "outputs": [
    {
     "data": {
      "text/html": [
       "<style>#sk-container-id-2 {color: black;}#sk-container-id-2 pre{padding: 0;}#sk-container-id-2 div.sk-toggleable {background-color: white;}#sk-container-id-2 label.sk-toggleable__label {cursor: pointer;display: block;width: 100%;margin-bottom: 0;padding: 0.3em;box-sizing: border-box;text-align: center;}#sk-container-id-2 label.sk-toggleable__label-arrow:before {content: \"▸\";float: left;margin-right: 0.25em;color: #696969;}#sk-container-id-2 label.sk-toggleable__label-arrow:hover:before {color: black;}#sk-container-id-2 div.sk-estimator:hover label.sk-toggleable__label-arrow:before {color: black;}#sk-container-id-2 div.sk-toggleable__content {max-height: 0;max-width: 0;overflow: hidden;text-align: left;background-color: #f0f8ff;}#sk-container-id-2 div.sk-toggleable__content pre {margin: 0.2em;color: black;border-radius: 0.25em;background-color: #f0f8ff;}#sk-container-id-2 input.sk-toggleable__control:checked~div.sk-toggleable__content {max-height: 200px;max-width: 100%;overflow: auto;}#sk-container-id-2 input.sk-toggleable__control:checked~label.sk-toggleable__label-arrow:before {content: \"▾\";}#sk-container-id-2 div.sk-estimator input.sk-toggleable__control:checked~label.sk-toggleable__label {background-color: #d4ebff;}#sk-container-id-2 div.sk-label input.sk-toggleable__control:checked~label.sk-toggleable__label {background-color: #d4ebff;}#sk-container-id-2 input.sk-hidden--visually {border: 0;clip: rect(1px 1px 1px 1px);clip: rect(1px, 1px, 1px, 1px);height: 1px;margin: -1px;overflow: hidden;padding: 0;position: absolute;width: 1px;}#sk-container-id-2 div.sk-estimator {font-family: monospace;background-color: #f0f8ff;border: 1px dotted black;border-radius: 0.25em;box-sizing: border-box;margin-bottom: 0.5em;}#sk-container-id-2 div.sk-estimator:hover {background-color: #d4ebff;}#sk-container-id-2 div.sk-parallel-item::after {content: \"\";width: 100%;border-bottom: 1px solid gray;flex-grow: 1;}#sk-container-id-2 div.sk-label:hover label.sk-toggleable__label {background-color: #d4ebff;}#sk-container-id-2 div.sk-serial::before {content: \"\";position: absolute;border-left: 1px solid gray;box-sizing: border-box;top: 0;bottom: 0;left: 50%;z-index: 0;}#sk-container-id-2 div.sk-serial {display: flex;flex-direction: column;align-items: center;background-color: white;padding-right: 0.2em;padding-left: 0.2em;position: relative;}#sk-container-id-2 div.sk-item {position: relative;z-index: 1;}#sk-container-id-2 div.sk-parallel {display: flex;align-items: stretch;justify-content: center;background-color: white;position: relative;}#sk-container-id-2 div.sk-item::before, #sk-container-id-2 div.sk-parallel-item::before {content: \"\";position: absolute;border-left: 1px solid gray;box-sizing: border-box;top: 0;bottom: 0;left: 50%;z-index: -1;}#sk-container-id-2 div.sk-parallel-item {display: flex;flex-direction: column;z-index: 1;position: relative;background-color: white;}#sk-container-id-2 div.sk-parallel-item:first-child::after {align-self: flex-end;width: 50%;}#sk-container-id-2 div.sk-parallel-item:last-child::after {align-self: flex-start;width: 50%;}#sk-container-id-2 div.sk-parallel-item:only-child::after {width: 0;}#sk-container-id-2 div.sk-dashed-wrapped {border: 1px dashed gray;margin: 0 0.4em 0.5em 0.4em;box-sizing: border-box;padding-bottom: 0.4em;background-color: white;}#sk-container-id-2 div.sk-label label {font-family: monospace;font-weight: bold;display: inline-block;line-height: 1.2em;}#sk-container-id-2 div.sk-label-container {text-align: center;}#sk-container-id-2 div.sk-container {/* jupyter's `normalize.less` sets `[hidden] { display: none; }` but bootstrap.min.css set `[hidden] { display: none !important; }` so we also need the `!important` here to be able to override the default hidden behavior on the sphinx rendered scikit-learn.org. See: https://github.com/scikit-learn/scikit-learn/issues/21755 */display: inline-block !important;position: relative;}#sk-container-id-2 div.sk-text-repr-fallback {display: none;}</style><div id=\"sk-container-id-2\" class=\"sk-top-container\"><div class=\"sk-text-repr-fallback\"><pre>LinearRegression()</pre><b>In a Jupyter environment, please rerun this cell to show the HTML representation or trust the notebook. <br />On GitHub, the HTML representation is unable to render, please try loading this page with nbviewer.org.</b></div><div class=\"sk-container\" hidden><div class=\"sk-item\"><div class=\"sk-estimator sk-toggleable\"><input class=\"sk-toggleable__control sk-hidden--visually\" id=\"sk-estimator-id-2\" type=\"checkbox\" checked><label for=\"sk-estimator-id-2\" class=\"sk-toggleable__label sk-toggleable__label-arrow\">LinearRegression</label><div class=\"sk-toggleable__content\"><pre>LinearRegression()</pre></div></div></div></div></div>"
      ],
      "text/plain": [
       "LinearRegression()"
      ]
     },
     "execution_count": 45,
     "metadata": {},
     "output_type": "execute_result"
    }
   ],
   "source": [
    "from sklearn.preprocessing import PolynomialFeatures\n",
    "plr=PolynomialFeatures(degree=3)\n",
    "\n",
    "x_pol=plr.fit_transform(x)\n",
    "lr_pol=LinearRegression()\n",
    "lr_pol.fit(x_pol,y)"
   ]
  },
  {
   "cell_type": "code",
   "execution_count": 46,
   "id": "a69e1023",
   "metadata": {},
   "outputs": [
    {
     "name": "stdout",
     "output_type": "stream",
     "text": [
      "1.3.0\n"
     ]
    }
   ],
   "source": [
    "import sklearn\n",
    "print(sklearn.__version__)"
   ]
  },
  {
   "cell_type": "code",
   "execution_count": 47,
   "id": "017e0644",
   "metadata": {},
   "outputs": [],
   "source": [
    "import pandas as pd\n",
    "import numpy as np\n",
    "import matplotlib.pyplot as plt\n",
    "from sklearn.linear_model import LinearRegression\n",
    "from sklearn.tree import DecisionTreeRegressor\n",
    "from sklearn.ensemble import RandomForestRegressor\n",
    "from sklearn.preprocessing import PolynomialFeatures\n",
    "from sklearn.metrics import r2_score,mean_absolute_error,mean_squared_error\n",
    "\n",
    "\n",
    "\n",
    "x=df.iloc[:,:8]\n",
    "y=df.iloc[:,:-1]"
   ]
  },
  {
   "cell_type": "code",
   "execution_count": 48,
   "id": "04f4a10f",
   "metadata": {},
   "outputs": [
    {
     "name": "stdout",
     "output_type": "stream",
     "text": [
      "tree r2: 0.9944323192730836\n"
     ]
    }
   ],
   "source": [
    "tree_reg=DecisionTreeRegressor()\n",
    "tree_reg.fit(x,y)\n",
    "\n",
    "tree_pred=tree_reg.predict(x)\n",
    "print(\"tree r2:\",r2_score(y,tree_pred))"
   ]
  },
  {
   "cell_type": "code",
   "execution_count": 49,
   "id": "63e95d70",
   "metadata": {},
   "outputs": [
    {
     "name": "stdout",
     "output_type": "stream",
     "text": [
      "rf r2: 0.9394094136866052\n",
      "rf mae: 0.0848636890064668\n"
     ]
    }
   ],
   "source": [
    "from sklearn.ensemble import RandomForestRegressor\n",
    "\n",
    "rf=RandomForestRegressor(n_estimators=100,random_state=42)\n",
    "rf.fit(x,y)\n",
    "rf_pred=rf.predict(x)\n",
    "\n",
    "print(\"rf r2:\",r2_score(y,rf_pred))\n",
    "print(\"rf mae:\",mean_absolute_error(y,rf_pred))"
   ]
  },
  {
   "cell_type": "code",
   "execution_count": 50,
   "id": "ea00e756",
   "metadata": {},
   "outputs": [],
   "source": [
    "lr=LinearRegression()"
   ]
  },
  {
   "cell_type": "code",
   "execution_count": 51,
   "id": "f80a80b7",
   "metadata": {},
   "outputs": [],
   "source": [
    "x=df.iloc[:,:8]\n",
    "y=df.iloc[:,:-1]"
   ]
  },
  {
   "cell_type": "code",
   "execution_count": 52,
   "id": "c72b9b38",
   "metadata": {},
   "outputs": [
    {
     "data": {
      "text/html": [
       "<style>#sk-container-id-3 {color: black;}#sk-container-id-3 pre{padding: 0;}#sk-container-id-3 div.sk-toggleable {background-color: white;}#sk-container-id-3 label.sk-toggleable__label {cursor: pointer;display: block;width: 100%;margin-bottom: 0;padding: 0.3em;box-sizing: border-box;text-align: center;}#sk-container-id-3 label.sk-toggleable__label-arrow:before {content: \"▸\";float: left;margin-right: 0.25em;color: #696969;}#sk-container-id-3 label.sk-toggleable__label-arrow:hover:before {color: black;}#sk-container-id-3 div.sk-estimator:hover label.sk-toggleable__label-arrow:before {color: black;}#sk-container-id-3 div.sk-toggleable__content {max-height: 0;max-width: 0;overflow: hidden;text-align: left;background-color: #f0f8ff;}#sk-container-id-3 div.sk-toggleable__content pre {margin: 0.2em;color: black;border-radius: 0.25em;background-color: #f0f8ff;}#sk-container-id-3 input.sk-toggleable__control:checked~div.sk-toggleable__content {max-height: 200px;max-width: 100%;overflow: auto;}#sk-container-id-3 input.sk-toggleable__control:checked~label.sk-toggleable__label-arrow:before {content: \"▾\";}#sk-container-id-3 div.sk-estimator input.sk-toggleable__control:checked~label.sk-toggleable__label {background-color: #d4ebff;}#sk-container-id-3 div.sk-label input.sk-toggleable__control:checked~label.sk-toggleable__label {background-color: #d4ebff;}#sk-container-id-3 input.sk-hidden--visually {border: 0;clip: rect(1px 1px 1px 1px);clip: rect(1px, 1px, 1px, 1px);height: 1px;margin: -1px;overflow: hidden;padding: 0;position: absolute;width: 1px;}#sk-container-id-3 div.sk-estimator {font-family: monospace;background-color: #f0f8ff;border: 1px dotted black;border-radius: 0.25em;box-sizing: border-box;margin-bottom: 0.5em;}#sk-container-id-3 div.sk-estimator:hover {background-color: #d4ebff;}#sk-container-id-3 div.sk-parallel-item::after {content: \"\";width: 100%;border-bottom: 1px solid gray;flex-grow: 1;}#sk-container-id-3 div.sk-label:hover label.sk-toggleable__label {background-color: #d4ebff;}#sk-container-id-3 div.sk-serial::before {content: \"\";position: absolute;border-left: 1px solid gray;box-sizing: border-box;top: 0;bottom: 0;left: 50%;z-index: 0;}#sk-container-id-3 div.sk-serial {display: flex;flex-direction: column;align-items: center;background-color: white;padding-right: 0.2em;padding-left: 0.2em;position: relative;}#sk-container-id-3 div.sk-item {position: relative;z-index: 1;}#sk-container-id-3 div.sk-parallel {display: flex;align-items: stretch;justify-content: center;background-color: white;position: relative;}#sk-container-id-3 div.sk-item::before, #sk-container-id-3 div.sk-parallel-item::before {content: \"\";position: absolute;border-left: 1px solid gray;box-sizing: border-box;top: 0;bottom: 0;left: 50%;z-index: -1;}#sk-container-id-3 div.sk-parallel-item {display: flex;flex-direction: column;z-index: 1;position: relative;background-color: white;}#sk-container-id-3 div.sk-parallel-item:first-child::after {align-self: flex-end;width: 50%;}#sk-container-id-3 div.sk-parallel-item:last-child::after {align-self: flex-start;width: 50%;}#sk-container-id-3 div.sk-parallel-item:only-child::after {width: 0;}#sk-container-id-3 div.sk-dashed-wrapped {border: 1px dashed gray;margin: 0 0.4em 0.5em 0.4em;box-sizing: border-box;padding-bottom: 0.4em;background-color: white;}#sk-container-id-3 div.sk-label label {font-family: monospace;font-weight: bold;display: inline-block;line-height: 1.2em;}#sk-container-id-3 div.sk-label-container {text-align: center;}#sk-container-id-3 div.sk-container {/* jupyter's `normalize.less` sets `[hidden] { display: none; }` but bootstrap.min.css set `[hidden] { display: none !important; }` so we also need the `!important` here to be able to override the default hidden behavior on the sphinx rendered scikit-learn.org. See: https://github.com/scikit-learn/scikit-learn/issues/21755 */display: inline-block !important;position: relative;}#sk-container-id-3 div.sk-text-repr-fallback {display: none;}</style><div id=\"sk-container-id-3\" class=\"sk-top-container\"><div class=\"sk-text-repr-fallback\"><pre>LinearRegression()</pre><b>In a Jupyter environment, please rerun this cell to show the HTML representation or trust the notebook. <br />On GitHub, the HTML representation is unable to render, please try loading this page with nbviewer.org.</b></div><div class=\"sk-container\" hidden><div class=\"sk-item\"><div class=\"sk-estimator sk-toggleable\"><input class=\"sk-toggleable__control sk-hidden--visually\" id=\"sk-estimator-id-3\" type=\"checkbox\" checked><label for=\"sk-estimator-id-3\" class=\"sk-toggleable__label sk-toggleable__label-arrow\">LinearRegression</label><div class=\"sk-toggleable__content\"><pre>LinearRegression()</pre></div></div></div></div></div>"
      ],
      "text/plain": [
       "LinearRegression()"
      ]
     },
     "execution_count": 52,
     "metadata": {},
     "output_type": "execute_result"
    }
   ],
   "source": [
    "lr.fit(x,y)"
   ]
  },
  {
   "cell_type": "code",
   "execution_count": 53,
   "id": "0877974b",
   "metadata": {},
   "outputs": [],
   "source": [
    "mlr=LinearRegression()\n",
    "mlr.fit(x,y)\n",
    "mlr_pred=mlr.predict(x)\n",
    "\n",
    "dt=DecisionTreeRegressor()\n",
    "dt.fit(x,y)\n",
    "dt_pred=dt.predict(x)\n",
    "\n",
    "rf=RandomForestRegressor(n_estimators=100,random_state=42)\n",
    "rf.fit(x,y)\n",
    "rf_pred=rf.predict(x)"
   ]
  },
  {
   "cell_type": "code",
   "execution_count": 54,
   "id": "d9fd737f",
   "metadata": {},
   "outputs": [
    {
     "name": "stdout",
     "output_type": "stream",
     "text": [
      "mlr: r2: 0.9135476282566979 mae: 0.043195674291452685\n",
      "dt: r2: 0.9944323192730836 mae: 0.002777777777777778\n",
      "rf: r2: 0.9394094136866052 mae: 0.0848636890064668\n"
     ]
    }
   ],
   "source": [
    "from sklearn.metrics import r2_score,mean_absolute_error,mean_squared_error\n",
    "print(\"mlr:\",\"r2:\",r2_score(y,mlr_pred),\"mae:\",mean_absolute_error(y,mlr_pred))\n",
    "print(\"dt:\",\"r2:\",r2_score(y,dt_pred),\"mae:\",mean_absolute_error(y,dt_pred))\n",
    "print(\"rf:\",\"r2:\",r2_score(y,rf_pred),\"mae:\",mean_absolute_error(y,rf_pred))"
   ]
  },
  {
   "cell_type": "code",
   "execution_count": 55,
   "id": "78c07957",
   "metadata": {},
   "outputs": [],
   "source": [
    "from sklearn.model_selection import train_test_split\n",
    "x_train,x_test,y_train,y_test=train_test_split(x,y,test_size=0.1,random_state=42)\n",
    "\n",
    "\n",
    "mlr=LinearRegression()\n",
    "mlr.fit(x_train,y_train)\n",
    "mlr_pred=mlr.predict(x_test)\n",
    "\n",
    "dt=DecisionTreeRegressor()\n",
    "dt.fit(x_train,y_train)\n",
    "dt_pred=dt.predict(x_test)\n",
    "\n",
    "rf=RandomForestRegressor(n_estimators=100,random_state=42)\n",
    "rf.fit(x_train,y_train)\n",
    "rf_pred=rf.predict(x_test)"
   ]
  },
  {
   "cell_type": "code",
   "execution_count": 56,
   "id": "cd5df8b1",
   "metadata": {},
   "outputs": [
    {
     "name": "stdout",
     "output_type": "stream",
     "text": [
      "mlr: r2: 0.9044365614245528 mae: 0.043221252890617526\n",
      "dt: r2: 0.18200951144120991 mae: 0.2222222222222222\n",
      "rf: r2: 0.5245980729177125 mae: 0.256241975308642\n"
     ]
    }
   ],
   "source": [
    "from sklearn.metrics import r2_score,mean_absolute_error,mean_squared_error\n",
    "print(\"mlr:\",\"r2:\",r2_score(y_test,mlr_pred),\"mae:\",mean_absolute_error(y_test,mlr_pred))\n",
    "print(\"dt:\",\"r2:\",r2_score(y_test,dt_pred),\"mae:\",mean_absolute_error(y_test,dt_pred))\n",
    "print(\"rf:\",\"r2:\",r2_score(y_test,rf_pred),\"mae:\",mean_absolute_error(y_test,rf_pred))"
   ]
  },
  {
   "cell_type": "markdown",
   "id": "77480884",
   "metadata": {},
   "source": [
    "## Conclusion "
   ]
  },
  {
   "cell_type": "markdown",
   "id": "359602c7",
   "metadata": {},
   "source": [
    "The Multiple Linear Regression model appears to be the best-performing model among the three, as it has the highest R-squared value and the lowest MAE.\n",
    "The Decision Tree model has a lower R-squared value and a higher MAE, suggesting it may not capture the relationships as well as the other models.\n",
    "The Random Forest model falls between the Multiple Linear Regression and Decision Tree in terms of performance, providing a balance between complexity and predictive accuracy."
   ]
  }
 ],
 "metadata": {
  "kernelspec": {
   "display_name": "Python 3 (ipykernel)",
   "language": "python",
   "name": "python3"
  },
  "language_info": {
   "codemirror_mode": {
    "name": "ipython",
    "version": 3
   },
   "file_extension": ".py",
   "mimetype": "text/x-python",
   "name": "python",
   "nbconvert_exporter": "python",
   "pygments_lexer": "ipython3",
   "version": "3.11.5"
  }
 },
 "nbformat": 4,
 "nbformat_minor": 5
}
